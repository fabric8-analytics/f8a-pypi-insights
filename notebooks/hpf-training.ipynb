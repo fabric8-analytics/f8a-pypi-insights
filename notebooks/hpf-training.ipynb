{
 "cells": [
  {
   "cell_type": "code",
   "execution_count": 1,
   "metadata": {},
   "outputs": [],
   "source": [
    "import hpfrec"
   ]
  },
  {
   "cell_type": "markdown",
   "metadata": {},
   "source": [
    "#### We train the model on 80% data. Remaining 20% we use for testing."
   ]
  },
  {
   "cell_type": "code",
   "execution_count": 23,
   "metadata": {},
   "outputs": [],
   "source": [
    "\"\"\"Fitting the model on training data, instead of validation set.\"\"\"\n",
    "recommender = hpfrec.HPF(k=50, reindex=False, stop_crit='train-llk', verbose=True, stop_thr=0.000001, maxiter=3000, random_seed=123,\n",
    "                        save_folder='~/Documents/RedHat/f8a-pypi-insights/notebooks')"
   ]
  },
  {
   "cell_type": "code",
   "execution_count": 24,
   "metadata": {},
   "outputs": [],
   "source": [
    "import pickle"
   ]
  },
  {
   "cell_type": "code",
   "execution_count": 25,
   "metadata": {},
   "outputs": [],
   "source": [
    "with open('training-data-without-trans.pkl', 'rb') as f:\n",
    "    train_df = pickle.load(f)"
   ]
  },
  {
   "cell_type": "code",
   "execution_count": 26,
   "metadata": {},
   "outputs": [],
   "source": [
    "with open('test-data-without-trans.pkl', 'rb') as f:\n",
    "    test_df = pickle.load(f)"
   ]
  },
  {
   "cell_type": "markdown",
   "metadata": {},
   "source": [
    "#### We fit the model on training data"
   ]
  },
  {
   "cell_type": "code",
   "execution_count": 27,
   "metadata": {},
   "outputs": [
    {
     "name": "stdout",
     "output_type": "stream",
     "text": [
      "**********************************\n",
      "Hierarchical Poisson Factorization\n",
      "**********************************\n",
      "\n",
      "Number of users: 66018\n",
      "Number of items: 18796\n",
      "Latent factors to use: 50\n",
      "\n",
      "Initializing parameters...\n",
      "Allocating Phi matrix...\n",
      "Initializing optimization procedure...\n",
      "Iteration 10 | train llk: -2077297 | train rmse: 0.9451\n",
      "Iteration 20 | train llk: -2001537 | train rmse: 0.9323\n",
      "Iteration 30 | train llk: -1988194 | train rmse: 0.9302\n",
      "Iteration 40 | train llk: -1982926 | train rmse: 0.9296\n",
      "Iteration 50 | train llk: -1980139 | train rmse: 0.9294\n",
      "Iteration 60 | train llk: -1978280 | train rmse: 0.9292\n",
      "Iteration 70 | train llk: -1977262 | train rmse: 0.9291\n",
      "Iteration 80 | train llk: -1976594 | train rmse: 0.9290\n",
      "Iteration 90 | train llk: -1976239 | train rmse: 0.9290\n",
      "Iteration 100 | train llk: -1975841 | train rmse: 0.9290\n",
      "Iteration 110 | train llk: -1975369 | train rmse: 0.9289\n",
      "Iteration 120 | train llk: -1975055 | train rmse: 0.9289\n",
      "Iteration 130 | train llk: -1974664 | train rmse: 0.9288\n",
      "Iteration 140 | train llk: -1974233 | train rmse: 0.9288\n",
      "Iteration 150 | train llk: -1973734 | train rmse: 0.9287\n",
      "Iteration 160 | train llk: -1973277 | train rmse: 0.9286\n",
      "Iteration 170 | train llk: -1973020 | train rmse: 0.9286\n",
      "Iteration 180 | train llk: -1972839 | train rmse: 0.9286\n",
      "Iteration 190 | train llk: -1972701 | train rmse: 0.9286\n",
      "Iteration 200 | train llk: -1972623 | train rmse: 0.9286\n",
      "Iteration 210 | train llk: -1972518 | train rmse: 0.9286\n",
      "Iteration 220 | train llk: -1972483 | train rmse: 0.9286\n",
      "Iteration 230 | train llk: -1972419 | train rmse: 0.9286\n",
      "Iteration 240 | train llk: -1972389 | train rmse: 0.9286\n",
      "Iteration 250 | train llk: -1972376 | train rmse: 0.9286\n",
      "Iteration 260 | train llk: -1972354 | train rmse: 0.9286\n",
      "Iteration 270 | train llk: -1972342 | train rmse: 0.9286\n",
      "Iteration 280 | train llk: -1972334 | train rmse: 0.9286\n",
      "Iteration 290 | train llk: -1972322 | train rmse: 0.9286\n",
      "Iteration 300 | train llk: -1972316 | train rmse: 0.9286\n",
      "Iteration 310 | train llk: -1972301 | train rmse: 0.9286\n",
      "Iteration 320 | train llk: -1972278 | train rmse: 0.9286\n",
      "Iteration 330 | train llk: -1972272 | train rmse: 0.9286\n",
      "Iteration 340 | train llk: -1972270 | train rmse: 0.9286\n",
      "\n",
      "\n",
      "Optimization finished\n",
      "Final log-likelihood: -1972270\n",
      "Final RMSE: 0.9286\n",
      "Minutes taken (optimization part): 1.9\n",
      "\n",
      "Saving final parameters to .csv files...\n"
     ]
    },
    {
     "data": {
      "text/plain": [
       "<hpfrec.HPF at 0x12a7674e0>"
      ]
     },
     "execution_count": 27,
     "metadata": {},
     "output_type": "execute_result"
    }
   ],
   "source": [
    "recommender.fit(train_df)"
   ]
  },
  {
   "cell_type": "code",
   "execution_count": 28,
   "metadata": {},
   "outputs": [],
   "source": [
    "import pandas as pd\n",
    "import numpy as np"
   ]
  },
  {
   "cell_type": "markdown",
   "metadata": {},
   "source": [
    "#### Calculate recall for the trained model on test data"
   ]
  },
  {
   "cell_type": "code",
   "execution_count": 29,
   "metadata": {},
   "outputs": [],
   "source": [
    "def recall_at_m(m):\n",
    "    recall = []\n",
    "    for i in range(66018):\n",
    "        x = np.array(test_df.loc[test_df.UserId.isin([i])].ItemId)\n",
    "        l = len(x)\n",
    "        recommendations = recommender.topN(user=i, n=m, exclude_seen=True)\n",
    "        intersection_length = len(np.intersect1d(x, recommendations))\n",
    "        try:\n",
    "            recall.append({\"recall\": intersection_length/l, \"length\": l, \"user\": i})\n",
    "        except ZeroDivisionError as e:\n",
    "            pass\n",
    "    \n",
    "    recall_df = pd.DataFrame(recall, index=None)\n",
    "    return recall_df['recall'].mean()"
   ]
  },
  {
   "cell_type": "code",
   "execution_count": 30,
   "metadata": {},
   "outputs": [
    {
     "data": {
      "text/plain": [
       "0.41278939301325235"
      ]
     },
     "execution_count": 30,
     "metadata": {},
     "output_type": "execute_result"
    }
   ],
   "source": [
    "recall_at_m(50)"
   ]
  },
  {
   "cell_type": "code",
   "execution_count": 31,
   "metadata": {},
   "outputs": [
    {
     "data": {
      "text/plain": [
       "0.519645094127212"
      ]
     },
     "execution_count": 31,
     "metadata": {},
     "output_type": "execute_result"
    }
   ],
   "source": [
    "recall_at_m(100)"
   ]
  },
  {
   "cell_type": "code",
   "execution_count": 32,
   "metadata": {},
   "outputs": [
    {
     "data": {
      "text/plain": [
       "0.6326654573644361"
      ]
     },
     "execution_count": 32,
     "metadata": {},
     "output_type": "execute_result"
    }
   ],
   "source": [
    "recall_at_m(200)"
   ]
  },
  {
   "cell_type": "code",
   "execution_count": 33,
   "metadata": {},
   "outputs": [
    {
     "data": {
      "text/plain": [
       "0.68950346547434"
      ]
     },
     "execution_count": 33,
     "metadata": {},
     "output_type": "execute_result"
    }
   ],
   "source": [
    "recall_at_m(300)"
   ]
  },
  {
   "cell_type": "code",
   "execution_count": 34,
   "metadata": {},
   "outputs": [],
   "source": [
    "import pickle"
   ]
  },
  {
   "cell_type": "code",
   "execution_count": 35,
   "metadata": {},
   "outputs": [],
   "source": [
    "\"\"\"Save the model\"\"\"\n",
    "recommender.step_size = None\n",
    "with open('HPF_model_without_trans.pkl', 'wb') as f:\n",
    "    pickle.dump(recommender, f)"
   ]
  },
  {
   "cell_type": "code",
   "execution_count": 36,
   "metadata": {},
   "outputs": [],
   "source": [
    "with open('HPF_model_without_trans.pkl', 'rb') as f:\n",
    "    recommender = pickle.load(f)"
   ]
  },
  {
   "cell_type": "markdown",
   "metadata": {},
   "source": [
    "#### We will do some common sense checks here to see if we trained the model correctly. To do that, predictions should:\n",
    "\n",
    "1. Be higher for this non-zero hold-out sample than for random items.\n",
    "2. Produce a good discrimination between random items and those in the hold-out sample (very related to the first point).\n",
    "3. Be correlated with the playcounts in the hold-out sample.\n",
    "4. Follow an exponential distribution rather than a normal or some other symmetric distribution."
   ]
  },
  {
   "cell_type": "code",
   "execution_count": 37,
   "metadata": {},
   "outputs": [],
   "source": [
    "import numpy as np"
   ]
  },
  {
   "cell_type": "code",
   "execution_count": 38,
   "metadata": {},
   "outputs": [
    {
     "name": "stdout",
     "output_type": "stream",
     "text": [
      "Average prediction for combinations in test set:  0.03801707\n",
      "Average prediction for random combinations:  0.02746515\n"
     ]
    }
   ],
   "source": [
    "test_df['Predicted'] = recommender.predict(user=test_df.UserId, item=test_df.ItemId)\n",
    "test_df['RandomItem'] = np.random.choice(train_df.ItemId, size=test_df.shape[0])\n",
    "test_df['PredictedRandom'] = recommender.predict(user=test_df.UserId, item=test_df.RandomItem)\n",
    "print(\"Average prediction for combinations in test set: \", test_df.Predicted.mean())\n",
    "print(\"Average prediction for random combinations: \", test_df.PredictedRandom.mean())"
   ]
  },
  {
   "cell_type": "code",
   "execution_count": 39,
   "metadata": {},
   "outputs": [
    {
     "data": {
      "text/plain": [
       "0.5805847628376624"
      ]
     },
     "execution_count": 39,
     "metadata": {},
     "output_type": "execute_result"
    }
   ],
   "source": [
    "from sklearn.metrics import roc_auc_score\n",
    "\n",
    "was_played = np.r_[np.ones(test_df.shape[0]), np.zeros(test_df.shape[0])]\n",
    "score_model = np.r_[test_df.Predicted.values, test_df.PredictedRandom.values]\n",
    "roc_auc_score(was_played, score_model)"
   ]
  },
  {
   "cell_type": "code",
   "execution_count": 40,
   "metadata": {},
   "outputs": [
    {
     "name": "stderr",
     "output_type": "stream",
     "text": [
      "/Users/aagamshah/anaconda3/lib/python3.6/site-packages/numpy/lib/function_base.py:2530: RuntimeWarning: invalid value encountered in true_divide\n",
      "  c /= stddev[:, None]\n",
      "/Users/aagamshah/anaconda3/lib/python3.6/site-packages/numpy/lib/function_base.py:2531: RuntimeWarning: invalid value encountered in true_divide\n",
      "  c /= stddev[None, :]\n"
     ]
    },
    {
     "data": {
      "text/plain": [
       "nan"
      ]
     },
     "execution_count": 40,
     "metadata": {},
     "output_type": "execute_result"
    }
   ],
   "source": [
    "# This is nan, because predict is bound to provide NaN values\n",
    "np.corrcoef(test_df.Count, test_df.Predicted)[0,1]"
   ]
  },
  {
   "cell_type": "code",
   "execution_count": 41,
   "metadata": {},
   "outputs": [
    {
     "data": {
      "image/png": "[encoded data removed]",
      "text/plain": [
       "<Figure size 432x288 with 1 Axes>"
      ]
     },
     "metadata": {},
     "output_type": "display_data"
    }
   ],
   "source": [
    "import matplotlib.pyplot as plt\n",
    "%matplotlib inline\n",
    "\n",
    "_ = plt.hist(test_df.Predicted, bins=80)\n",
    "plt.xlim(0,5)\n",
    "plt.show()"
   ]
  },
  {
   "cell_type": "code",
   "execution_count": null,
   "metadata": {},
   "outputs": [],
   "source": []
  }
 ],
 "metadata": {
  "kernelspec": {
   "display_name": "Python 3",
   "language": "python",
   "name": "python3"
  },
  "language_info": {
   "codemirror_mode": {
    "name": "ipython",
    "version": 3
   },
   "file_extension": ".py",
   "mimetype": "text/x-python",
   "name": "python",
   "nbconvert_exporter": "python",
   "pygments_lexer": "ipython3",
   "version": "3.6.3"
  }
 },
 "nbformat": 4,
 "nbformat_minor": 2
}
