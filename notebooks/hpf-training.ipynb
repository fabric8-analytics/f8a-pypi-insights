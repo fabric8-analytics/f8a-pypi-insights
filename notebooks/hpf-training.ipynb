{
 "cells": [
  {
   "cell_type": "code",
   "execution_count": 1,
   "metadata": {},
   "outputs": [],
   "source": [
    "import hpfrec"
   ]
  },
  {
   "cell_type": "markdown",
   "metadata": {},
   "source": [
    "#### We train the model on 80% data. Remaining 20% we use for testing."
   ]
  },
  {
   "cell_type": "code",
   "execution_count": 2,
   "metadata": {},
   "outputs": [],
   "source": [
    "\"\"\"Fitting the model on training data, instead of validation set.\"\"\"\n",
    "recommender = hpfrec.HPF(k=40, reindex=False, stop_crit='train-llk', verbose=True, stop_thr=0.000001, maxiter=3000, random_seed=123,\n",
    "                        save_folder='~/Documents/RedHat')"
   ]
  },
  {
   "cell_type": "code",
   "execution_count": 4,
   "metadata": {},
   "outputs": [],
   "source": [
    "import pickle"
   ]
  },
  {
   "cell_type": "code",
   "execution_count": 5,
   "metadata": {},
   "outputs": [],
   "source": [
    "with open('training-data.pkl', 'rb') as f:\n",
    "    train_df = pickle.load(f)"
   ]
  },
  {
   "cell_type": "code",
   "execution_count": 7,
   "metadata": {},
   "outputs": [],
   "source": [
    "with open('test-data.pkl', 'rb') as f:\n",
    "    test_df = pickle.load(f)"
   ]
  },
  {
   "cell_type": "markdown",
   "metadata": {},
   "source": [
    "#### We fit the model on training data"
   ]
  },
  {
   "cell_type": "code",
   "execution_count": 6,
   "metadata": {},
   "outputs": [
    {
     "name": "stdout",
     "output_type": "stream",
     "text": [
      "**********************************\n",
      "Hierarchical Poisson Factorization\n",
      "**********************************\n",
      "\n",
      "Number of users: 69134\n",
      "Number of items: 19113\n",
      "Latent factors to use: 40\n",
      "\n",
      "Initializing parameters...\n",
      "Allocating Phi matrix...\n",
      "Initializing optimization procedure...\n",
      "Iteration 10 | train llk: -2680502 | train rmse: 0.8978\n",
      "Iteration 20 | train llk: -2500041 | train rmse: 0.8705\n",
      "Iteration 30 | train llk: -2471753 | train rmse: 0.8666\n",
      "Iteration 40 | train llk: -2462954 | train rmse: 0.8652\n",
      "Iteration 50 | train llk: -2452805 | train rmse: 0.8624\n",
      "Iteration 60 | train llk: -2447563 | train rmse: 0.8609\n",
      "Iteration 70 | train llk: -2445322 | train rmse: 0.8604\n",
      "Iteration 80 | train llk: -2444132 | train rmse: 0.8602\n",
      "Iteration 90 | train llk: -2443542 | train rmse: 0.8600\n",
      "Iteration 100 | train llk: -2442509 | train rmse: 0.8598\n",
      "Iteration 110 | train llk: -2441767 | train rmse: 0.8596\n",
      "Iteration 120 | train llk: -2441155 | train rmse: 0.8595\n",
      "Iteration 130 | train llk: -2440719 | train rmse: 0.8594\n",
      "Iteration 140 | train llk: -2440251 | train rmse: 0.8593\n",
      "Iteration 150 | train llk: -2439956 | train rmse: 0.8593\n",
      "Iteration 160 | train llk: -2439757 | train rmse: 0.8592\n",
      "Iteration 170 | train llk: -2439579 | train rmse: 0.8592\n",
      "Iteration 180 | train llk: -2439477 | train rmse: 0.8592\n",
      "Iteration 190 | train llk: -2439357 | train rmse: 0.8591\n",
      "Iteration 200 | train llk: -2439235 | train rmse: 0.8591\n",
      "Iteration 210 | train llk: -2439130 | train rmse: 0.8591\n",
      "Iteration 220 | train llk: -2439012 | train rmse: 0.8591\n",
      "Iteration 230 | train llk: -2438908 | train rmse: 0.8591\n",
      "Iteration 240 | train llk: -2438795 | train rmse: 0.8590\n",
      "Iteration 250 | train llk: -2438706 | train rmse: 0.8590\n",
      "Iteration 260 | train llk: -2438651 | train rmse: 0.8590\n",
      "Iteration 270 | train llk: -2438585 | train rmse: 0.8590\n",
      "Iteration 280 | train llk: -2438320 | train rmse: 0.8590\n",
      "Iteration 290 | train llk: -2438225 | train rmse: 0.8590\n",
      "Iteration 300 | train llk: -2438187 | train rmse: 0.8590\n",
      "Iteration 310 | train llk: -2438152 | train rmse: 0.8590\n",
      "Iteration 320 | train llk: -2438114 | train rmse: 0.8590\n",
      "Iteration 330 | train llk: -2438071 | train rmse: 0.8589\n",
      "Iteration 340 | train llk: -2437912 | train rmse: 0.8589\n",
      "Iteration 350 | train llk: -2437678 | train rmse: 0.8589\n",
      "Iteration 360 | train llk: -2437570 | train rmse: 0.8589\n",
      "Iteration 370 | train llk: -2437489 | train rmse: 0.8589\n",
      "Iteration 380 | train llk: -2437295 | train rmse: 0.8588\n",
      "Iteration 390 | train llk: -2437155 | train rmse: 0.8588\n",
      "Iteration 400 | train llk: -2436892 | train rmse: 0.8588\n",
      "Iteration 410 | train llk: -2436786 | train rmse: 0.8588\n",
      "Iteration 420 | train llk: -2436674 | train rmse: 0.8587\n",
      "Iteration 430 | train llk: -2436608 | train rmse: 0.8587\n",
      "Iteration 440 | train llk: -2436573 | train rmse: 0.8587\n",
      "Iteration 450 | train llk: -2436556 | train rmse: 0.8587\n",
      "Iteration 460 | train llk: -2436534 | train rmse: 0.8587\n",
      "Iteration 470 | train llk: -2436513 | train rmse: 0.8587\n",
      "Iteration 480 | train llk: -2436485 | train rmse: 0.8587\n",
      "Iteration 490 | train llk: -2436475 | train rmse: 0.8587\n",
      "Iteration 500 | train llk: -2436473 | train rmse: 0.8587\n",
      "Iteration 510 | train llk: -2436474 | train rmse: 0.8587\n",
      "\n",
      "\n",
      "Optimization finished\n",
      "Final log-likelihood: -2436474\n",
      "Final RMSE: 0.8587\n",
      "Minutes taken (optimization part): 3.9\n",
      "\n",
      "Saving final parameters to .csv files...\n"
     ]
    },
    {
     "data": {
      "text/plain": [
       "<hpfrec.HPF at 0x1173824a8>"
      ]
     },
     "execution_count": 6,
     "metadata": {},
     "output_type": "execute_result"
    }
   ],
   "source": [
    "recommender.fit(train_df)"
   ]
  },
  {
   "cell_type": "code",
   "execution_count": 9,
   "metadata": {},
   "outputs": [],
   "source": [
    "import pandas as pd\n",
    "import numpy as np"
   ]
  },
  {
   "cell_type": "markdown",
   "metadata": {},
   "source": [
    "#### Calculate recall for the trained model on test data"
   ]
  },
  {
   "cell_type": "code",
   "execution_count": 14,
   "metadata": {},
   "outputs": [],
   "source": [
    "def recall_at_m(m):\n",
    "    recall = []\n",
    "    for i in range(69134):\n",
    "        x = np.array(test_df.loc[test_df.UserId.isin([i])].ItemId)\n",
    "        l = len(x)\n",
    "        recommendations = recommender.topN(user=i, n=m, exclude_seen=True)\n",
    "        intersection_length = len(np.intersect1d(x, recommendations))\n",
    "        try:\n",
    "            recall.append({\"recall\": intersection_length/l, \"length\": l, \"user\": i})\n",
    "        except ZeroDivisionError as e:\n",
    "            pass\n",
    "    \n",
    "    recall_df = pd.DataFrame(recall, index=None)\n",
    "    return recall_df['recall'].mean()"
   ]
  },
  {
   "cell_type": "code",
   "execution_count": 15,
   "metadata": {},
   "outputs": [
    {
     "data": {
      "text/plain": [
       "0.5514439046072342"
      ]
     },
     "execution_count": 15,
     "metadata": {},
     "output_type": "execute_result"
    }
   ],
   "source": [
    "recall_at_m(50)"
   ]
  },
  {
   "cell_type": "code",
   "execution_count": 16,
   "metadata": {},
   "outputs": [
    {
     "data": {
      "text/plain": [
       "0.6373126166890021"
      ]
     },
     "execution_count": 16,
     "metadata": {},
     "output_type": "execute_result"
    }
   ],
   "source": [
    "recall_at_m(100)"
   ]
  },
  {
   "cell_type": "code",
   "execution_count": 17,
   "metadata": {},
   "outputs": [
    {
     "data": {
      "text/plain": [
       "0.7241040874463005"
      ]
     },
     "execution_count": 17,
     "metadata": {},
     "output_type": "execute_result"
    }
   ],
   "source": [
    "recall_at_m(200)"
   ]
  },
  {
   "cell_type": "code",
   "execution_count": 18,
   "metadata": {},
   "outputs": [
    {
     "data": {
      "text/plain": [
       "0.7678137919769555"
      ]
     },
     "execution_count": 18,
     "metadata": {},
     "output_type": "execute_result"
    }
   ],
   "source": [
    "recall_at_m(300)"
   ]
  },
  {
   "cell_type": "code",
   "execution_count": 7,
   "metadata": {},
   "outputs": [],
   "source": [
    "import pickle"
   ]
  },
  {
   "cell_type": "code",
   "execution_count": 9,
   "metadata": {},
   "outputs": [],
   "source": [
    "\"\"\"Save the model\"\"\"\n",
    "recommender.step_size = None\n",
    "with open('HPF_model.pkl', 'wb') as f:\n",
    "    pickle.dump(recommender, f)"
   ]
  },
  {
   "cell_type": "code",
   "execution_count": 8,
   "metadata": {},
   "outputs": [],
   "source": [
    "with open('HPF_model.pkl', 'rb') as f:\n",
    "    recommender = pickle.load(f)"
   ]
  },
  {
   "cell_type": "markdown",
   "metadata": {},
   "source": [
    "#### We will do some common sense checks here to see if we trained the model correctly. To do that, predictions should:\n",
    "\n",
    "1. Be higher for this non-zero hold-out sample than for random items.\n",
    "2. Produce a good discrimination between random items and those in the hold-out sample (very related to the first point).\n",
    "3. Be correlated with the playcounts in the hold-out sample.\n",
    "4. Follow an exponential distribution rather than a normal or some other symmetric distribution."
   ]
  },
  {
   "cell_type": "code",
   "execution_count": 10,
   "metadata": {},
   "outputs": [],
   "source": [
    "import numpy as np"
   ]
  },
  {
   "cell_type": "code",
   "execution_count": 11,
   "metadata": {},
   "outputs": [
    {
     "name": "stdout",
     "output_type": "stream",
     "text": [
      "Average prediction for combinations in test set:  0.1635301113128662\n",
      "Average prediction for random combinations:  0.07973380386829376\n"
     ]
    }
   ],
   "source": [
    "test_df['Predicted'] = recommender.predict(user=test_df.UserId, item=test_df.ItemId)\n",
    "test_df['RandomItem'] = np.random.choice(train_df.ItemId, size=test_df.shape[0])\n",
    "test_df['PredictedRandom'] = recommender.predict(user=test_df.UserId, item=test_df.RandomItem)\n",
    "print(\"Average prediction for combinations in test set: \", test_df.Predicted.mean())\n",
    "print(\"Average prediction for random combinations: \", test_df.PredictedRandom.mean())"
   ]
  },
  {
   "cell_type": "code",
   "execution_count": 12,
   "metadata": {},
   "outputs": [
    {
     "data": {
      "text/plain": [
       "0.6980859520906082"
      ]
     },
     "execution_count": 12,
     "metadata": {},
     "output_type": "execute_result"
    }
   ],
   "source": [
    "from sklearn.metrics import roc_auc_score\n",
    "\n",
    "was_played = np.r_[np.ones(test_df.shape[0]), np.zeros(test_df.shape[0])]\n",
    "score_model = np.r_[test_df.Predicted.values, test_df.PredictedRandom.values]\n",
    "roc_auc_score(was_played, score_model)"
   ]
  },
  {
   "cell_type": "code",
   "execution_count": 14,
   "metadata": {},
   "outputs": [
    {
     "name": "stderr",
     "output_type": "stream",
     "text": [
      "/Users/aagamshah/anaconda3/lib/python3.6/site-packages/numpy/lib/function_base.py:2400: RuntimeWarning: invalid value encountered in true_divide\n",
      "  c /= stddev[:, None]\n",
      "/Users/aagamshah/anaconda3/lib/python3.6/site-packages/numpy/lib/function_base.py:2401: RuntimeWarning: invalid value encountered in true_divide\n",
      "  c /= stddev[None, :]\n"
     ]
    },
    {
     "data": {
      "text/plain": [
       "nan"
      ]
     },
     "execution_count": 14,
     "metadata": {},
     "output_type": "execute_result"
    }
   ],
   "source": [
    "# This is nan, because predict is bound to provide NaN values\n",
    "np.corrcoef(test_df.Count, test_df.Predicted)[0,1]"
   ]
  },
  {
   "cell_type": "code",
   "execution_count": 19,
   "metadata": {},
   "outputs": [
    {
     "data": {
      "image/png": "[encoded data removed]",
      "text/plain": [
       "<matplotlib.figure.Figure at 0x116d66b38>"
      ]
     },
     "metadata": {},
     "output_type": "display_data"
    }
   ],
   "source": [
    "import matplotlib.pyplot as plt\n",
    "%matplotlib inline\n",
    "\n",
    "_ = plt.hist(test_df.Predicted, bins=80)\n",
    "plt.xlim(0,5)\n",
    "plt.show()"
   ]
  }
 ],
 "metadata": {
  "kernelspec": {
   "display_name": "Python 3",
   "language": "python",
   "name": "python3"
  },
  "language_info": {
   "codemirror_mode": {
    "name": "ipython",
    "version": 3
   },
   "file_extension": ".py",
   "mimetype": "text/x-python",
   "name": "python",
   "nbconvert_exporter": "python",
   "pygments_lexer": "ipython3",
   "version": "3.6.3"
  }
 },
 "nbformat": 4,
 "nbformat_minor": 2
}
