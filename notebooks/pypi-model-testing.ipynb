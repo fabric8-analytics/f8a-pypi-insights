{
 "cells": [
  {
   "cell_type": "markdown",
   "metadata": {},
   "source": [
    "## Here we will look at how we can evaluate models for a sub-ecosystem of pypi"
   ]
  },
  {
   "cell_type": "markdown",
   "metadata": {},
   "source": [
    "### The ask is following:\n",
    "\n",
    "1. Come up with a specific set of stacks, for which we can define a tree.\n",
    "2. In this example, we will explore the following tree: Web Developer -> Flask -> Flask Admin -> Multiple children\n",
    "\n",
    "Regarding flask-admin please visit https://github.com/flask-admin/flask-admin"
   ]
  },
  {
   "cell_type": "markdown",
   "metadata": {},
   "source": [
    "#### Step 1\n",
    "\n",
    "Collect a few good examples of stacks which use flask-admin."
   ]
  },
  {
   "cell_type": "code",
   "execution_count": 1,
   "metadata": {},
   "outputs": [],
   "source": [
    "## Here the stack reflects adding a login functionality to an existing flask admin application using sql as a backend\n",
    "\n",
    "stack_1 = {\"flask\", \"flask-admin\", \"flask-SQLAlchemy\", \"flask-login\"}\n",
    "stack_1_t = stack_1.union({\"click\", \"itsdangerous\", \"jinja2\", \"markupsafe\", \"sqlalchemy\", \"werkzeug\", \"wtforms\"})"
   ]
  },
  {
   "cell_type": "code",
   "execution_count": 2,
   "metadata": {},
   "outputs": [],
   "source": [
    "## Here the stack reflects adding a login functionality to an existing flask admin application using mongo as a backend\n",
    "\n",
    "stack_2 = {\"flask\", \"flask-admin\", \"flask-mongoengine\", \"flask-login\"}\n",
    "stack_2_t = stack_2.union({\"click\", \"flask-wtf\", \"itsdangerous\", \"jinja2\", \"markupsafe\", \"mongoengine\", \"pymongo\", \"six\", \"werkzeug\", \"wtforms\"})"
   ]
  },
  {
   "cell_type": "code",
   "execution_count": 3,
   "metadata": {},
   "outputs": [],
   "source": [
    "## Here the stack reflects using forms with sql as backend\n",
    "\n",
    "stack_3 = {\"flask\", \"flask-admin\", \"flask-SQLAlchemy\", \"WTForms\"}\n",
    "stack_3_t = stack_3.union({\"click\", \"itsdangerous\", \"jinja2\", \"markupsafe\", \"sqlalchemy\", \"werkzeug\"})"
   ]
  },
  {
   "cell_type": "code",
   "execution_count": 4,
   "metadata": {},
   "outputs": [],
   "source": [
    "## Here the stack reflects usage of pewee as database backend\n",
    "\n",
    "stack_4 = {\"flask\", \"flask-admin\", \"peewee\", \"wtf-peewee\"}\n",
    "stack_4_t = stack_4.union({\"click\", \"itsdangerous\", \"jinja2\", \"markupsafe\", \"werkzeug\", \"wtforms\"})"
   ]
  },
  {
   "cell_type": "markdown",
   "metadata": {},
   "source": [
    "#### Step 2\n",
    "\n",
    "Let's take these stacks as the ground truth and see how the model behaves\n",
    "\n",
    "- We will first take the intersection of these stacks and find the common packages\n",
    "- We then input this common stack and see the recommendations of the model. \n",
    "- We calculate how precision and recall for the packages which were left out\n",
    "- We then try to personalize the model with stack specific packages like sqlalchemy and mongoengine and see if the recommendations make sense."
   ]
  },
  {
   "cell_type": "code",
   "execution_count": 212,
   "metadata": {},
   "outputs": [],
   "source": [
    "# Let's load the model and the relevant dictionaries\n",
    "\n",
    "import pickle\n",
    "import json\n",
    "\n",
    "with open('HPF_model.pkl', 'rb') as f:\n",
    "    model = pickle.load(f)"
   ]
  },
  {
   "cell_type": "code",
   "execution_count": 213,
   "metadata": {},
   "outputs": [],
   "source": [
    "with open('manifest-to-id.pickle', 'rb') as f:\n",
    "    manifest_to_id_dict = pickle.load(f)"
   ]
  },
  {
   "cell_type": "code",
   "execution_count": 214,
   "metadata": {},
   "outputs": [],
   "source": [
    "with open('package-to-id-dict.json', 'r') as f:\n",
    "    package_to_id_dict = json.load(f)"
   ]
  },
  {
   "cell_type": "code",
   "execution_count": 215,
   "metadata": {},
   "outputs": [],
   "source": [
    "with open('id-to-package-dict.json', 'r') as f:\n",
    "    id_to_package_dict = json.load(f)"
   ]
  },
  {
   "cell_type": "code",
   "execution_count": 174,
   "metadata": {},
   "outputs": [],
   "source": [
    "# Let's perform the intersection\n",
    "\n",
    "stack_base = stack_1.intersection(stack_2).intersection(stack_3).intersection(stack_4)"
   ]
  },
  {
   "cell_type": "code",
   "execution_count": 10,
   "metadata": {},
   "outputs": [
    {
     "data": {
      "text/plain": [
       "{'flask', 'flask-admin'}"
      ]
     },
     "execution_count": 10,
     "metadata": {},
     "output_type": "execute_result"
    }
   ],
   "source": [
    "stack_base"
   ]
  },
  {
   "cell_type": "code",
   "execution_count": 11,
   "metadata": {},
   "outputs": [],
   "source": [
    "# Let's calculate the remaining packages\n",
    "\n",
    "stack_remaining = stack_1.union(stack_2).union(stack_3).union(stack_4) - stack_base"
   ]
  },
  {
   "cell_type": "code",
   "execution_count": 12,
   "metadata": {},
   "outputs": [
    {
     "data": {
      "text/plain": [
       "{'WTForms',\n",
       " 'flask-SQLAlchemy',\n",
       " 'flask-login',\n",
       " 'flask-mongoengine',\n",
       " 'peewee',\n",
       " 'wtf-peewee'}"
      ]
     },
     "execution_count": 12,
     "metadata": {},
     "output_type": "execute_result"
    }
   ],
   "source": [
    "stack_remaining"
   ]
  },
  {
   "cell_type": "code",
   "execution_count": 14,
   "metadata": {},
   "outputs": [],
   "source": [
    "from pip._vendor.distlib.util import normalize_name"
   ]
  },
  {
   "cell_type": "code",
   "execution_count": 14,
   "metadata": {},
   "outputs": [],
   "source": [
    "stack_base = {normalize_name(x) for x in stack_base}"
   ]
  },
  {
   "cell_type": "code",
   "execution_count": 15,
   "metadata": {},
   "outputs": [
    {
     "data": {
      "text/plain": [
       "{'flask', 'flask-admin'}"
      ]
     },
     "execution_count": 15,
     "metadata": {},
     "output_type": "execute_result"
    }
   ],
   "source": [
    "stack_base"
   ]
  },
  {
   "cell_type": "code",
   "execution_count": 15,
   "metadata": {},
   "outputs": [
    {
     "ename": "NameError",
     "evalue": "name 'stack_remaining' is not defined",
     "output_type": "error",
     "traceback": [
      "\u001b[0;31m---------------------------------------------------------------------------\u001b[0m",
      "\u001b[0;31mNameError\u001b[0m                                 Traceback (most recent call last)",
      "\u001b[0;32m<ipython-input-15-fa353ee3af80>\u001b[0m in \u001b[0;36m<module>\u001b[0;34m()\u001b[0m\n\u001b[0;32m----> 1\u001b[0;31m \u001b[0mstack_remaining\u001b[0m \u001b[0;34m=\u001b[0m \u001b[0;34m{\u001b[0m\u001b[0mnormalize_name\u001b[0m\u001b[0;34m(\u001b[0m\u001b[0mx\u001b[0m\u001b[0;34m)\u001b[0m \u001b[0;32mfor\u001b[0m \u001b[0mx\u001b[0m \u001b[0;32min\u001b[0m \u001b[0mstack_remaining\u001b[0m\u001b[0;34m}\u001b[0m\u001b[0;34m\u001b[0m\u001b[0m\n\u001b[0m",
      "\u001b[0;31mNameError\u001b[0m: name 'stack_remaining' is not defined"
     ]
    }
   ],
   "source": [
    "stack_remaining = {normalize_name(x) for x in stack_remaining}"
   ]
  },
  {
   "cell_type": "code",
   "execution_count": 17,
   "metadata": {},
   "outputs": [
    {
     "data": {
      "text/plain": [
       "{'flask-login',\n",
       " 'flask-mongoengine',\n",
       " 'flask-sqlalchemy',\n",
       " 'peewee',\n",
       " 'wtf-peewee',\n",
       " 'wtforms'}"
      ]
     },
     "execution_count": 17,
     "metadata": {},
     "output_type": "execute_result"
    }
   ],
   "source": [
    "stack_remaining"
   ]
  },
  {
   "cell_type": "code",
   "execution_count": 18,
   "metadata": {},
   "outputs": [],
   "source": [
    "# We will start with first step here\n",
    "\n",
    "stack_base = frozenset(stack_base)"
   ]
  },
  {
   "cell_type": "code",
   "execution_count": 19,
   "metadata": {},
   "outputs": [],
   "source": [
    "manifest_id = manifest_to_id_dict.get(stack_base)"
   ]
  },
  {
   "cell_type": "code",
   "execution_count": 20,
   "metadata": {},
   "outputs": [
    {
     "data": {
      "text/plain": [
       "31606"
      ]
     },
     "execution_count": 20,
     "metadata": {},
     "output_type": "execute_result"
    }
   ],
   "source": [
    "manifest_id"
   ]
  },
  {
   "cell_type": "code",
   "execution_count": 21,
   "metadata": {},
   "outputs": [],
   "source": [
    "package_id_list = [package_to_id_dict.get(x) for x in stack_base]"
   ]
  },
  {
   "cell_type": "code",
   "execution_count": 22,
   "metadata": {},
   "outputs": [
    {
     "data": {
      "text/plain": [
       "[0, 1084]"
      ]
     },
     "execution_count": 22,
     "metadata": {},
     "output_type": "execute_result"
    }
   ],
   "source": [
    "package_id_list"
   ]
  },
  {
   "cell_type": "code",
   "execution_count": 23,
   "metadata": {},
   "outputs": [],
   "source": [
    "# Let's get the recommendations\n",
    "\n",
    "recommendations = model.topN(user=manifest_id, n=20)"
   ]
  },
  {
   "cell_type": "code",
   "execution_count": 24,
   "metadata": {},
   "outputs": [],
   "source": [
    "recommendations = [id_to_package_dict.get(str(x)) for x in recommendations]"
   ]
  },
  {
   "cell_type": "code",
   "execution_count": 25,
   "metadata": {},
   "outputs": [
    {
     "data": {
      "text/plain": [
       "['requests',\n",
       " 'psycopg2',\n",
       " 'wsgiref',\n",
       " 'flask',\n",
       " 'flask-script',\n",
       " 'flask-wtf',\n",
       " 'django',\n",
       " 'flask-login',\n",
       " 'gunicorn',\n",
       " 'nose',\n",
       " 'mako',\n",
       " 'python-dateutil',\n",
       " 'flask-migrate',\n",
       " 'argparse',\n",
       " 'selenium',\n",
       " 'pyyaml',\n",
       " 'six',\n",
       " 'pillow',\n",
       " 'blinker',\n",
       " 'wheel']"
      ]
     },
     "execution_count": 25,
     "metadata": {},
     "output_type": "execute_result"
    }
   ],
   "source": [
    "recommendations"
   ]
  },
  {
   "cell_type": "code",
   "execution_count": 26,
   "metadata": {},
   "outputs": [],
   "source": [
    "common_package = set(recommendations).intersection(stack_remaining)"
   ]
  },
  {
   "cell_type": "code",
   "execution_count": 27,
   "metadata": {},
   "outputs": [],
   "source": [
    "# Let's add the common package to stack_base\n",
    "\n",
    "stack_base = set(stack_base)\n",
    "stack_base = stack_base.union(common_package)\n",
    "stack_base = frozenset(stack_base)"
   ]
  },
  {
   "cell_type": "code",
   "execution_count": 230,
   "metadata": {},
   "outputs": [],
   "source": [
    "stack_base = frozenset(['flask'])"
   ]
  },
  {
   "cell_type": "code",
   "execution_count": 231,
   "metadata": {},
   "outputs": [],
   "source": [
    "manifest_id = manifest_to_id_dict.get(stack_base)"
   ]
  },
  {
   "cell_type": "code",
   "execution_count": 232,
   "metadata": {},
   "outputs": [
    {
     "data": {
      "text/plain": [
       "9205"
      ]
     },
     "execution_count": 232,
     "metadata": {},
     "output_type": "execute_result"
    }
   ],
   "source": [
    "manifest_id"
   ]
  },
  {
   "cell_type": "code",
   "execution_count": null,
   "metadata": {},
   "outputs": [],
   "source": []
  },
  {
   "cell_type": "code",
   "execution_count": 233,
   "metadata": {},
   "outputs": [],
   "source": [
    "package_id_list = [package_to_id_dict.get(x) for x in stack_base]"
   ]
  },
  {
   "cell_type": "code",
   "execution_count": 234,
   "metadata": {},
   "outputs": [
    {
     "data": {
      "text/plain": [
       "[0]"
      ]
     },
     "execution_count": 234,
     "metadata": {},
     "output_type": "execute_result"
    }
   ],
   "source": [
    "package_id_list"
   ]
  },
  {
   "cell_type": "code",
   "execution_count": 172,
   "metadata": {},
   "outputs": [],
   "source": [
    "import pandas as pd\n",
    "counts_df = pd.DataFrame({\n",
    "                    'ItemId': package_id_list,\n",
    "                    'Count': [1] * len(package_id_list)\n",
    "                })"
   ]
  },
  {
   "cell_type": "code",
   "execution_count": 173,
   "metadata": {},
   "outputs": [],
   "source": [
    "user_id = model.nusers"
   ]
  },
  {
   "cell_type": "code",
   "execution_count": 174,
   "metadata": {},
   "outputs": [
    {
     "data": {
      "text/plain": [
       "True"
      ]
     },
     "execution_count": 174,
     "metadata": {},
     "output_type": "execute_result"
    }
   ],
   "source": [
    "model.add_user(\n",
    "                    user_id=user_id,\n",
    "                    counts_df=counts_df\n",
    "                )"
   ]
  },
  {
   "cell_type": "code",
   "execution_count": null,
   "metadata": {},
   "outputs": [],
   "source": []
  },
  {
   "cell_type": "code",
   "execution_count": 235,
   "metadata": {},
   "outputs": [],
   "source": [
    "# Let's get the recommendations\n",
    "\n",
    "recommendations = model.topN(user=manifest_id, n=20)"
   ]
  },
  {
   "cell_type": "code",
   "execution_count": null,
   "metadata": {},
   "outputs": [],
   "source": []
  },
  {
   "cell_type": "code",
   "execution_count": 236,
   "metadata": {},
   "outputs": [],
   "source": [
    "recommendations = [id_to_package_dict.get(str(x)) for x in recommendations]"
   ]
  },
  {
   "cell_type": "code",
   "execution_count": 237,
   "metadata": {},
   "outputs": [
    {
     "data": {
      "text/plain": [
       "['requests',\n",
       " 'psycopg2',\n",
       " 'wsgiref',\n",
       " 'django',\n",
       " 'gunicorn',\n",
       " 'nose',\n",
       " 'python-dateutil',\n",
       " 'argparse',\n",
       " 'pyyaml',\n",
       " 'six',\n",
       " 'pillow',\n",
       " 'wheel',\n",
       " 'pandas',\n",
       " 'jinja2',\n",
       " 'ipython',\n",
       " 'sqlalchemy',\n",
       " 'flask-sqlalchemy',\n",
       " 'pycrypto',\n",
       " 'mock',\n",
       " 'beautifulsoup4']"
      ]
     },
     "execution_count": 237,
     "metadata": {},
     "output_type": "execute_result"
    }
   ],
   "source": [
    "recommendations"
   ]
  },
  {
   "cell_type": "markdown",
   "metadata": {},
   "source": [
    "#### Here are the observations:\n",
    "\n",
    "1. We need to train the model by removing the transitives from requirements.txt that we gather. Then and then only, we will start receiving relevant recommendations because if you closely observe the first 10-15 results are mostly transitive dependencies.\n",
    "2. Need a mechanism to deal with the popular items being recommended. Will be reading further on this."
   ]
  },
  {
   "cell_type": "markdown",
   "metadata": {},
   "source": [
    "#### Let's load the model without transitives and check"
   ]
  },
  {
   "cell_type": "code",
   "execution_count": 224,
   "metadata": {},
   "outputs": [],
   "source": [
    "# Let's load the model and the relevant dictionaries\n",
    "\n",
    "import pickle\n",
    "import json\n",
    "\n",
    "with open('HPF_model_without_trans.pkl', 'rb') as f:\n",
    "    model = pickle.load(f)"
   ]
  },
  {
   "cell_type": "code",
   "execution_count": 225,
   "metadata": {},
   "outputs": [],
   "source": [
    "with open('manifest-to-id-without-trans.pickle', 'rb') as f:\n",
    "    manifest_to_id_dict = pickle.load(f)"
   ]
  },
  {
   "cell_type": "code",
   "execution_count": 226,
   "metadata": {},
   "outputs": [],
   "source": [
    "with open('package-to-id-dict-without-trans.json', 'r') as f:\n",
    "    package_to_id_dict = json.load(f)"
   ]
  },
  {
   "cell_type": "code",
   "execution_count": 227,
   "metadata": {},
   "outputs": [],
   "source": [
    "with open('id-to-package-dict-without-trans.json', 'r') as f:\n",
    "    id_to_package_dict = json.load(f)"
   ]
  },
  {
   "cell_type": "code",
   "execution_count": 228,
   "metadata": {},
   "outputs": [
    {
     "name": "stdout",
     "output_type": "stream",
     "text": [
      "8\n"
     ]
    }
   ],
   "source": [
    "count = 0\n",
    "l = []\n",
    "for item_list, user in manifest_to_id_dict.items():\n",
    "    if 'tensorflow' in item_list and 'keras' in item_list and 'lxml' in item_list:\n",
    "        count += 1\n",
    "        l.append(item_list)\n",
    "print(count)"
   ]
  },
  {
   "cell_type": "code",
   "execution_count": 229,
   "metadata": {},
   "outputs": [
    {
     "data": {
      "text/plain": [
       "[frozenset({'keras', 'lxml', 'tensorflow'}),\n",
       " frozenset({'astroml',\n",
       "            'astropy',\n",
       "            'bs4',\n",
       "            'keras',\n",
       "            'kplr',\n",
       "            'lxml',\n",
       "            'pathos',\n",
       "            'pyfits',\n",
       "            'rq',\n",
       "            'scikit-learn',\n",
       "            'tensorflow',\n",
       "            'tqdm'}),\n",
       " frozenset({'appdirs',\n",
       "            'flask-cors',\n",
       "            'gunicorn',\n",
       "            'keras',\n",
       "            'lxml',\n",
       "            'nltk',\n",
       "            'packaging',\n",
       "            'pbr',\n",
       "            'tensorflow',\n",
       "            'theano'}),\n",
       " frozenset({'autocorrect',\n",
       "            'autoflight',\n",
       "            'flask',\n",
       "            'flask-mysqldb',\n",
       "            'gunicorn',\n",
       "            'keras',\n",
       "            'lxml',\n",
       "            'matplotlib',\n",
       "            'mysql-python',\n",
       "            'mysqlclient',\n",
       "            'nose',\n",
       "            'pbr',\n",
       "            'pymysql',\n",
       "            'pyparsing',\n",
       "            'python-dateutil',\n",
       "            'pytz',\n",
       "            'scikit-learn',\n",
       "            'sklearn',\n",
       "            'tensorflow',\n",
       "            'theano',\n",
       "            'trueskill'}),\n",
       " frozenset({'codecov',\n",
       "            'google-api-python-client',\n",
       "            'graphviz',\n",
       "            'keras',\n",
       "            'lxml',\n",
       "            'matplotlib',\n",
       "            'muscima',\n",
       "            'omrdatasettools',\n",
       "            'pillow',\n",
       "            'pyhamcrest',\n",
       "            'scikit-learn',\n",
       "            'sympy',\n",
       "            'telegram-send',\n",
       "            'tensorflow',\n",
       "            'tqdm'}),\n",
       " frozenset({'bleach',\n",
       "            'bottle',\n",
       "            'keras',\n",
       "            'lxml',\n",
       "            'pbr',\n",
       "            'python-levenshtein',\n",
       "            'regex',\n",
       "            'scikit-learn',\n",
       "            'segtok',\n",
       "            'sklearn',\n",
       "            'tensorflow',\n",
       "            'unidecode'}),\n",
       " frozenset({'appdirs',\n",
       "            'biopython',\n",
       "            'cycler',\n",
       "            'docopt',\n",
       "            'keras',\n",
       "            'lxml',\n",
       "            'matplotlib',\n",
       "            'nltk',\n",
       "            'packaging',\n",
       "            'pydot-ng',\n",
       "            'scikit-learn',\n",
       "            'setuptools-scm',\n",
       "            'sklearn',\n",
       "            'tensorflow',\n",
       "            'theano'}),\n",
       " frozenset({'jupyter',\n",
       "            'keras',\n",
       "            'lxml',\n",
       "            'opencv-python',\n",
       "            'scikit-image',\n",
       "            'tensorflow'})]"
      ]
     },
     "execution_count": 229,
     "metadata": {},
     "output_type": "execute_result"
    }
   ],
   "source": [
    "l"
   ]
  },
  {
   "cell_type": "code",
   "execution_count": null,
   "metadata": {},
   "outputs": [],
   "source": []
  }
 ],
 "metadata": {
  "kernelspec": {
   "display_name": "Python 3",
   "language": "python",
   "name": "python3"
  },
  "language_info": {
   "codemirror_mode": {
    "name": "ipython",
    "version": 3
   },
   "file_extension": ".py",
   "mimetype": "text/x-python",
   "name": "python",
   "nbconvert_exporter": "python",
   "pygments_lexer": "ipython3",
   "version": "3.6.3"
  }
 },
 "nbformat": 4,
 "nbformat_minor": 2
}
