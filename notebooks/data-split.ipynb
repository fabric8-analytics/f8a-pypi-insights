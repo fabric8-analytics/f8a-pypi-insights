{
 "cells": [
  {
   "cell_type": "markdown",
   "metadata": {},
   "source": [
    "### Data Splitting\n",
    "\n",
    "This notebook contains code to split data into train and test data. You can also split the data into train, test and validate. See the comments inline for more detail."
   ]
  },
  {
   "cell_type": "code",
   "execution_count": 1,
   "metadata": {},
   "outputs": [],
   "source": [
    "import json   "
   ]
  },
  {
   "cell_type": "markdown",
   "metadata": {},
   "source": [
    "#### Create package to id dict for packages. Maps each package to a unique id."
   ]
  },
  {
   "cell_type": "code",
   "execution_count": 2,
   "metadata": {},
   "outputs": [],
   "source": [
    "with open('manifest-list-without-trans-unique.json', 'r') as f:\n",
    "    a = 0\n",
    "    content = json.load(f)\n",
    "    x = dict()\n",
    "    for package_list in content[0].get('package_list'):\n",
    "        for package in package_list:\n",
    "            if package:\n",
    "                if package not in x:\n",
    "                    x[package] = a\n",
    "                    a = a+1"
   ]
  },
  {
   "cell_type": "code",
   "execution_count": 4,
   "metadata": {},
   "outputs": [],
   "source": [
    "with open('package-to-id-dict-without-trans.json', 'w') as w:\n",
    "    json.dump(x, w)"
   ]
  },
  {
   "cell_type": "markdown",
   "metadata": {},
   "source": [
    "#### Create item id to package mapping"
   ]
  },
  {
   "cell_type": "code",
   "execution_count": 5,
   "metadata": {},
   "outputs": [],
   "source": [
    "id_to_package_dict = {v: k for k, v in x.items()}"
   ]
  },
  {
   "cell_type": "code",
   "execution_count": null,
   "metadata": {},
   "outputs": [],
   "source": []
  },
  {
   "cell_type": "code",
   "execution_count": 6,
   "metadata": {},
   "outputs": [],
   "source": [
    "with open('id-to-package-dict-without-trans.json', 'w') as w:\n",
    "    json.dump(id_to_package_dict, w)"
   ]
  },
  {
   "cell_type": "markdown",
   "metadata": {},
   "source": [
    "#### Create id to manifest mapping. Each unique manifest is mapped to a unique id."
   ]
  },
  {
   "cell_type": "code",
   "execution_count": 7,
   "metadata": {},
   "outputs": [],
   "source": [
    "\"\"\"Create an id to manifest mapping. Maps each unique manifest to a unique id.\"\"\"\n",
    "with open('manifest-list-without-trans-unique.json', 'r') as f:\n",
    "    content = json.load(f)\n",
    "    a = 0\n",
    "    id_to_manifest_dict = dict()\n",
    "    for manifest in content[0].get('package_list'):\n",
    "        id_to_manifest_dict[a] = manifest\n",
    "        a += 1"
   ]
  },
  {
   "cell_type": "code",
   "execution_count": 8,
   "metadata": {},
   "outputs": [],
   "source": [
    "with open('id-to-manifest-dict-without-trans.json', 'w') as w:\n",
    "    json.dump(id_to_manifest_dict, w)"
   ]
  },
  {
   "cell_type": "markdown",
   "metadata": {},
   "source": [
    "#### Create a manifest to id mapping"
   ]
  },
  {
   "cell_type": "code",
   "execution_count": 9,
   "metadata": {},
   "outputs": [],
   "source": [
    "manifest_to_id_dict = {frozenset(v): k for k,v in id_to_manifest_dict.items()}"
   ]
  },
  {
   "cell_type": "code",
   "execution_count": 11,
   "metadata": {},
   "outputs": [],
   "source": [
    "\"\"\"Create a manifest to id mapping. Maps each unique manifest to a unique id.\"\"\"\n",
    "\n",
    "import pickle\n",
    "\n",
    "with open('manifest-to-id-without-trans.pickle', 'wb') as w:\n",
    "    pickle.dump(manifest_to_id_dict, w, protocol=pickle.HIGHEST_PROTOCOL)"
   ]
  },
  {
   "cell_type": "code",
   "execution_count": 12,
   "metadata": {},
   "outputs": [],
   "source": [
    "import pandas"
   ]
  },
  {
   "cell_type": "code",
   "execution_count": 16,
   "metadata": {},
   "outputs": [],
   "source": [
    "with open('id-to-manifest-dict-without-trans.json', 'r') as f:\n",
    "    content = json.load(f)\n",
    "    df = pandas.DataFrame.from_dict(content, orient='index')"
   ]
  },
  {
   "cell_type": "code",
   "execution_count": 17,
   "metadata": {},
   "outputs": [],
   "source": [
    "del(content)"
   ]
  },
  {
   "cell_type": "markdown",
   "metadata": {},
   "source": [
    "#### Create a dataframe with three columns UserId, ItemId, Count for every manifest. Each manifest is a user and the packages are items and the count is 1."
   ]
  },
  {
   "cell_type": "code",
   "execution_count": 18,
   "metadata": {},
   "outputs": [],
   "source": [
    "data_mapping_list = []"
   ]
  },
  {
   "cell_type": "code",
   "execution_count": 19,
   "metadata": {},
   "outputs": [],
   "source": [
    "with open('id-to-manifest-dict-without-trans.json', 'r') as m, open('package-to-id-dict-without-trans.json', 'r') as p:\n",
    "    content_man = json.load(m)\n",
    "    content_pack = json.load(p)\n",
    "    for k,v in content_man.items():\n",
    "        userId = int(k)\n",
    "        for package in v:\n",
    "            itemId = content_pack[package]\n",
    "            count = 1\n",
    "            data_mapping_list.append(\n",
    "                {\n",
    "                    \"UserId\": userId,\n",
    "                    \"ItemId\": itemId,\n",
    "                    \"Count\": 1\n",
    "                }\n",
    "            )"
   ]
  },
  {
   "cell_type": "code",
   "execution_count": 21,
   "metadata": {},
   "outputs": [],
   "source": [
    "with open('user-item-matrix.json', 'w') as f:\n",
    "    json.dump(data_mapping_list, f)"
   ]
  },
  {
   "cell_type": "markdown",
   "metadata": {},
   "source": [
    "#### The model accepts the data in form of a dataframe. Hence load the user item matrix as a dataframe."
   ]
  },
  {
   "cell_type": "code",
   "execution_count": 22,
   "metadata": {},
   "outputs": [],
   "source": [
    "with open('user-item-matrix.json', 'r') as f:\n",
    "    df = pandas.read_json(f, orient='records')"
   ]
  },
  {
   "cell_type": "code",
   "execution_count": 23,
   "metadata": {},
   "outputs": [],
   "source": [
    "import numpy as np"
   ]
  },
  {
   "cell_type": "code",
   "execution_count": 24,
   "metadata": {},
   "outputs": [
    {
     "data": {
      "text/html": [
       "<div>\n",
       "<style scoped>\n",
       "    .dataframe tbody tr th:only-of-type {\n",
       "        vertical-align: middle;\n",
       "    }\n",
       "\n",
       "    .dataframe tbody tr th {\n",
       "        vertical-align: top;\n",
       "    }\n",
       "\n",
       "    .dataframe thead th {\n",
       "        text-align: right;\n",
       "    }\n",
       "</style>\n",
       "<table border=\"1\" class=\"dataframe\">\n",
       "  <thead>\n",
       "    <tr style=\"text-align: right;\">\n",
       "      <th></th>\n",
       "      <th>Count</th>\n",
       "      <th>ItemId</th>\n",
       "      <th>UserId</th>\n",
       "    </tr>\n",
       "  </thead>\n",
       "  <tbody>\n",
       "    <tr>\n",
       "      <th>0</th>\n",
       "      <td>1</td>\n",
       "      <td>0</td>\n",
       "      <td>0</td>\n",
       "    </tr>\n",
       "    <tr>\n",
       "      <th>1</th>\n",
       "      <td>1</td>\n",
       "      <td>1</td>\n",
       "      <td>0</td>\n",
       "    </tr>\n",
       "    <tr>\n",
       "      <th>2</th>\n",
       "      <td>1</td>\n",
       "      <td>2</td>\n",
       "      <td>0</td>\n",
       "    </tr>\n",
       "    <tr>\n",
       "      <th>3</th>\n",
       "      <td>1</td>\n",
       "      <td>3</td>\n",
       "      <td>0</td>\n",
       "    </tr>\n",
       "    <tr>\n",
       "      <th>4</th>\n",
       "      <td>1</td>\n",
       "      <td>4</td>\n",
       "      <td>1</td>\n",
       "    </tr>\n",
       "  </tbody>\n",
       "</table>\n",
       "</div>"
      ],
      "text/plain": [
       "   Count  ItemId  UserId\n",
       "0      1       0       0\n",
       "1      1       1       0\n",
       "2      1       2       0\n",
       "3      1       3       0\n",
       "4      1       4       1"
      ]
     },
     "execution_count": 24,
     "metadata": {},
     "output_type": "execute_result"
    }
   ],
   "source": [
    "df.head()"
   ]
  },
  {
   "cell_type": "markdown",
   "metadata": {},
   "source": [
    "#### Group the dataframe by UserId since we want every user to be a part of training. This is because of the fact that this model can only validate the log likelihood on seen users and items."
   ]
  },
  {
   "cell_type": "code",
   "execution_count": 25,
   "metadata": {},
   "outputs": [],
   "source": [
    "df_user_id = df.groupby(\"UserId\")"
   ]
  },
  {
   "cell_type": "code",
   "execution_count": 26,
   "metadata": {},
   "outputs": [
    {
     "data": {
      "text/html": [
       "<div>\n",
       "<style scoped>\n",
       "    .dataframe tbody tr th:only-of-type {\n",
       "        vertical-align: middle;\n",
       "    }\n",
       "\n",
       "    .dataframe tbody tr th {\n",
       "        vertical-align: top;\n",
       "    }\n",
       "\n",
       "    .dataframe thead th {\n",
       "        text-align: right;\n",
       "    }\n",
       "</style>\n",
       "<table border=\"1\" class=\"dataframe\">\n",
       "  <thead>\n",
       "    <tr style=\"text-align: right;\">\n",
       "      <th></th>\n",
       "      <th>Count</th>\n",
       "      <th>ItemId</th>\n",
       "      <th>UserId</th>\n",
       "    </tr>\n",
       "  </thead>\n",
       "  <tbody>\n",
       "    <tr>\n",
       "      <th>0</th>\n",
       "      <td>1</td>\n",
       "      <td>0</td>\n",
       "      <td>0</td>\n",
       "    </tr>\n",
       "    <tr>\n",
       "      <th>1</th>\n",
       "      <td>1</td>\n",
       "      <td>1</td>\n",
       "      <td>0</td>\n",
       "    </tr>\n",
       "    <tr>\n",
       "      <th>2</th>\n",
       "      <td>1</td>\n",
       "      <td>2</td>\n",
       "      <td>0</td>\n",
       "    </tr>\n",
       "    <tr>\n",
       "      <th>3</th>\n",
       "      <td>1</td>\n",
       "      <td>3</td>\n",
       "      <td>0</td>\n",
       "    </tr>\n",
       "    <tr>\n",
       "      <th>4</th>\n",
       "      <td>1</td>\n",
       "      <td>4</td>\n",
       "      <td>1</td>\n",
       "    </tr>\n",
       "    <tr>\n",
       "      <th>5</th>\n",
       "      <td>1</td>\n",
       "      <td>2</td>\n",
       "      <td>1</td>\n",
       "    </tr>\n",
       "    <tr>\n",
       "      <th>6</th>\n",
       "      <td>1</td>\n",
       "      <td>5</td>\n",
       "      <td>1</td>\n",
       "    </tr>\n",
       "    <tr>\n",
       "      <th>7</th>\n",
       "      <td>1</td>\n",
       "      <td>6</td>\n",
       "      <td>1</td>\n",
       "    </tr>\n",
       "    <tr>\n",
       "      <th>8</th>\n",
       "      <td>1</td>\n",
       "      <td>7</td>\n",
       "      <td>1</td>\n",
       "    </tr>\n",
       "    <tr>\n",
       "      <th>11</th>\n",
       "      <td>1</td>\n",
       "      <td>5</td>\n",
       "      <td>2</td>\n",
       "    </tr>\n",
       "    <tr>\n",
       "      <th>12</th>\n",
       "      <td>1</td>\n",
       "      <td>10</td>\n",
       "      <td>2</td>\n",
       "    </tr>\n",
       "    <tr>\n",
       "      <th>13</th>\n",
       "      <td>1</td>\n",
       "      <td>2</td>\n",
       "      <td>2</td>\n",
       "    </tr>\n",
       "    <tr>\n",
       "      <th>14</th>\n",
       "      <td>1</td>\n",
       "      <td>11</td>\n",
       "      <td>3</td>\n",
       "    </tr>\n",
       "    <tr>\n",
       "      <th>15</th>\n",
       "      <td>1</td>\n",
       "      <td>12</td>\n",
       "      <td>3</td>\n",
       "    </tr>\n",
       "    <tr>\n",
       "      <th>16</th>\n",
       "      <td>1</td>\n",
       "      <td>13</td>\n",
       "      <td>4</td>\n",
       "    </tr>\n",
       "    <tr>\n",
       "      <th>17</th>\n",
       "      <td>1</td>\n",
       "      <td>14</td>\n",
       "      <td>4</td>\n",
       "    </tr>\n",
       "    <tr>\n",
       "      <th>18</th>\n",
       "      <td>1</td>\n",
       "      <td>1</td>\n",
       "      <td>4</td>\n",
       "    </tr>\n",
       "    <tr>\n",
       "      <th>19</th>\n",
       "      <td>1</td>\n",
       "      <td>15</td>\n",
       "      <td>5</td>\n",
       "    </tr>\n",
       "    <tr>\n",
       "      <th>20</th>\n",
       "      <td>1</td>\n",
       "      <td>16</td>\n",
       "      <td>5</td>\n",
       "    </tr>\n",
       "    <tr>\n",
       "      <th>21</th>\n",
       "      <td>1</td>\n",
       "      <td>17</td>\n",
       "      <td>6</td>\n",
       "    </tr>\n",
       "    <tr>\n",
       "      <th>22</th>\n",
       "      <td>1</td>\n",
       "      <td>18</td>\n",
       "      <td>6</td>\n",
       "    </tr>\n",
       "    <tr>\n",
       "      <th>23</th>\n",
       "      <td>1</td>\n",
       "      <td>19</td>\n",
       "      <td>7</td>\n",
       "    </tr>\n",
       "    <tr>\n",
       "      <th>24</th>\n",
       "      <td>1</td>\n",
       "      <td>20</td>\n",
       "      <td>8</td>\n",
       "    </tr>\n",
       "    <tr>\n",
       "      <th>25</th>\n",
       "      <td>1</td>\n",
       "      <td>21</td>\n",
       "      <td>8</td>\n",
       "    </tr>\n",
       "    <tr>\n",
       "      <th>26</th>\n",
       "      <td>1</td>\n",
       "      <td>22</td>\n",
       "      <td>8</td>\n",
       "    </tr>\n",
       "    <tr>\n",
       "      <th>27</th>\n",
       "      <td>1</td>\n",
       "      <td>23</td>\n",
       "      <td>8</td>\n",
       "    </tr>\n",
       "    <tr>\n",
       "      <th>28</th>\n",
       "      <td>1</td>\n",
       "      <td>24</td>\n",
       "      <td>8</td>\n",
       "    </tr>\n",
       "    <tr>\n",
       "      <th>30</th>\n",
       "      <td>1</td>\n",
       "      <td>25</td>\n",
       "      <td>9</td>\n",
       "    </tr>\n",
       "    <tr>\n",
       "      <th>31</th>\n",
       "      <td>1</td>\n",
       "      <td>2</td>\n",
       "      <td>9</td>\n",
       "    </tr>\n",
       "    <tr>\n",
       "      <th>32</th>\n",
       "      <td>1</td>\n",
       "      <td>26</td>\n",
       "      <td>9</td>\n",
       "    </tr>\n",
       "    <tr>\n",
       "      <th>...</th>\n",
       "      <td>...</td>\n",
       "      <td>...</td>\n",
       "      <td>...</td>\n",
       "    </tr>\n",
       "    <tr>\n",
       "      <th>484663</th>\n",
       "      <td>1</td>\n",
       "      <td>784</td>\n",
       "      <td>66010</td>\n",
       "    </tr>\n",
       "    <tr>\n",
       "      <th>484670</th>\n",
       "      <td>1</td>\n",
       "      <td>21</td>\n",
       "      <td>66011</td>\n",
       "    </tr>\n",
       "    <tr>\n",
       "      <th>484671</th>\n",
       "      <td>1</td>\n",
       "      <td>2</td>\n",
       "      <td>66011</td>\n",
       "    </tr>\n",
       "    <tr>\n",
       "      <th>484672</th>\n",
       "      <td>1</td>\n",
       "      <td>394</td>\n",
       "      <td>66011</td>\n",
       "    </tr>\n",
       "    <tr>\n",
       "      <th>484673</th>\n",
       "      <td>1</td>\n",
       "      <td>3282</td>\n",
       "      <td>66011</td>\n",
       "    </tr>\n",
       "    <tr>\n",
       "      <th>484674</th>\n",
       "      <td>1</td>\n",
       "      <td>1</td>\n",
       "      <td>66011</td>\n",
       "    </tr>\n",
       "    <tr>\n",
       "      <th>484675</th>\n",
       "      <td>1</td>\n",
       "      <td>453</td>\n",
       "      <td>66012</td>\n",
       "    </tr>\n",
       "    <tr>\n",
       "      <th>484676</th>\n",
       "      <td>1</td>\n",
       "      <td>0</td>\n",
       "      <td>66012</td>\n",
       "    </tr>\n",
       "    <tr>\n",
       "      <th>484677</th>\n",
       "      <td>1</td>\n",
       "      <td>5</td>\n",
       "      <td>66012</td>\n",
       "    </tr>\n",
       "    <tr>\n",
       "      <th>484678</th>\n",
       "      <td>1</td>\n",
       "      <td>882</td>\n",
       "      <td>66012</td>\n",
       "    </tr>\n",
       "    <tr>\n",
       "      <th>484679</th>\n",
       "      <td>1</td>\n",
       "      <td>8</td>\n",
       "      <td>66012</td>\n",
       "    </tr>\n",
       "    <tr>\n",
       "      <th>484681</th>\n",
       "      <td>1</td>\n",
       "      <td>320</td>\n",
       "      <td>66013</td>\n",
       "    </tr>\n",
       "    <tr>\n",
       "      <th>484682</th>\n",
       "      <td>1</td>\n",
       "      <td>13027</td>\n",
       "      <td>66013</td>\n",
       "    </tr>\n",
       "    <tr>\n",
       "      <th>484683</th>\n",
       "      <td>1</td>\n",
       "      <td>105</td>\n",
       "      <td>66014</td>\n",
       "    </tr>\n",
       "    <tr>\n",
       "      <th>484684</th>\n",
       "      <td>1</td>\n",
       "      <td>7086</td>\n",
       "      <td>66014</td>\n",
       "    </tr>\n",
       "    <tr>\n",
       "      <th>484685</th>\n",
       "      <td>1</td>\n",
       "      <td>1717</td>\n",
       "      <td>66014</td>\n",
       "    </tr>\n",
       "    <tr>\n",
       "      <th>484686</th>\n",
       "      <td>1</td>\n",
       "      <td>392</td>\n",
       "      <td>66014</td>\n",
       "    </tr>\n",
       "    <tr>\n",
       "      <th>484687</th>\n",
       "      <td>1</td>\n",
       "      <td>10330</td>\n",
       "      <td>66014</td>\n",
       "    </tr>\n",
       "    <tr>\n",
       "      <th>484691</th>\n",
       "      <td>1</td>\n",
       "      <td>4140</td>\n",
       "      <td>66015</td>\n",
       "    </tr>\n",
       "    <tr>\n",
       "      <th>484692</th>\n",
       "      <td>1</td>\n",
       "      <td>1172</td>\n",
       "      <td>66015</td>\n",
       "    </tr>\n",
       "    <tr>\n",
       "      <th>484693</th>\n",
       "      <td>1</td>\n",
       "      <td>64</td>\n",
       "      <td>66016</td>\n",
       "    </tr>\n",
       "    <tr>\n",
       "      <th>484694</th>\n",
       "      <td>1</td>\n",
       "      <td>855</td>\n",
       "      <td>66016</td>\n",
       "    </tr>\n",
       "    <tr>\n",
       "      <th>484695</th>\n",
       "      <td>1</td>\n",
       "      <td>799</td>\n",
       "      <td>66016</td>\n",
       "    </tr>\n",
       "    <tr>\n",
       "      <th>484696</th>\n",
       "      <td>1</td>\n",
       "      <td>2298</td>\n",
       "      <td>66016</td>\n",
       "    </tr>\n",
       "    <tr>\n",
       "      <th>484697</th>\n",
       "      <td>1</td>\n",
       "      <td>280</td>\n",
       "      <td>66016</td>\n",
       "    </tr>\n",
       "    <tr>\n",
       "      <th>484709</th>\n",
       "      <td>1</td>\n",
       "      <td>588</td>\n",
       "      <td>66017</td>\n",
       "    </tr>\n",
       "    <tr>\n",
       "      <th>484710</th>\n",
       "      <td>1</td>\n",
       "      <td>136</td>\n",
       "      <td>66017</td>\n",
       "    </tr>\n",
       "    <tr>\n",
       "      <th>484711</th>\n",
       "      <td>1</td>\n",
       "      <td>23</td>\n",
       "      <td>66017</td>\n",
       "    </tr>\n",
       "    <tr>\n",
       "      <th>484712</th>\n",
       "      <td>1</td>\n",
       "      <td>784</td>\n",
       "      <td>66017</td>\n",
       "    </tr>\n",
       "    <tr>\n",
       "      <th>484713</th>\n",
       "      <td>1</td>\n",
       "      <td>524</td>\n",
       "      <td>66017</td>\n",
       "    </tr>\n",
       "  </tbody>\n",
       "</table>\n",
       "<p>264309 rows × 3 columns</p>\n",
       "</div>"
      ],
      "text/plain": [
       "        Count  ItemId  UserId\n",
       "0           1       0       0\n",
       "1           1       1       0\n",
       "2           1       2       0\n",
       "3           1       3       0\n",
       "4           1       4       1\n",
       "5           1       2       1\n",
       "6           1       5       1\n",
       "7           1       6       1\n",
       "8           1       7       1\n",
       "11          1       5       2\n",
       "12          1      10       2\n",
       "13          1       2       2\n",
       "14          1      11       3\n",
       "15          1      12       3\n",
       "16          1      13       4\n",
       "17          1      14       4\n",
       "18          1       1       4\n",
       "19          1      15       5\n",
       "20          1      16       5\n",
       "21          1      17       6\n",
       "22          1      18       6\n",
       "23          1      19       7\n",
       "24          1      20       8\n",
       "25          1      21       8\n",
       "26          1      22       8\n",
       "27          1      23       8\n",
       "28          1      24       8\n",
       "30          1      25       9\n",
       "31          1       2       9\n",
       "32          1      26       9\n",
       "...       ...     ...     ...\n",
       "484663      1     784   66010\n",
       "484670      1      21   66011\n",
       "484671      1       2   66011\n",
       "484672      1     394   66011\n",
       "484673      1    3282   66011\n",
       "484674      1       1   66011\n",
       "484675      1     453   66012\n",
       "484676      1       0   66012\n",
       "484677      1       5   66012\n",
       "484678      1     882   66012\n",
       "484679      1       8   66012\n",
       "484681      1     320   66013\n",
       "484682      1   13027   66013\n",
       "484683      1     105   66014\n",
       "484684      1    7086   66014\n",
       "484685      1    1717   66014\n",
       "484686      1     392   66014\n",
       "484687      1   10330   66014\n",
       "484691      1    4140   66015\n",
       "484692      1    1172   66015\n",
       "484693      1      64   66016\n",
       "484694      1     855   66016\n",
       "484695      1     799   66016\n",
       "484696      1    2298   66016\n",
       "484697      1     280   66016\n",
       "484709      1     588   66017\n",
       "484710      1     136   66017\n",
       "484711      1      23   66017\n",
       "484712      1     784   66017\n",
       "484713      1     524   66017\n",
       "\n",
       "[264309 rows x 3 columns]"
      ]
     },
     "execution_count": 26,
     "metadata": {},
     "output_type": "execute_result"
    }
   ],
   "source": [
    "df_user_id.head()"
   ]
  },
  {
   "cell_type": "markdown",
   "metadata": {},
   "source": [
    "#### This creates train, test, validation split of data. 60% is given to training, 20% to validate and test respectively."
   ]
  },
  {
   "cell_type": "code",
   "execution_count": 27,
   "metadata": {},
   "outputs": [],
   "source": [
    "def train_test_validate_split(df):\n",
    "    return np.split(df.sample(frac=1), [int(.6*len(df)), int(.8*len(df))])"
   ]
  },
  {
   "cell_type": "markdown",
   "metadata": {},
   "source": [
    "#### This creates only train and test split. 80% is training and 20% is testing."
   ]
  },
  {
   "cell_type": "code",
   "execution_count": 28,
   "metadata": {},
   "outputs": [],
   "source": [
    "def train_test_split(df):\n",
    "    return np.split(df.sample(frac=1), [int(.8*len(df))])"
   ]
  },
  {
   "cell_type": "code",
   "execution_count": 29,
   "metadata": {},
   "outputs": [
    {
     "data": {
      "text/html": [
       "<div>\n",
       "<style scoped>\n",
       "    .dataframe tbody tr th:only-of-type {\n",
       "        vertical-align: middle;\n",
       "    }\n",
       "\n",
       "    .dataframe tbody tr th {\n",
       "        vertical-align: top;\n",
       "    }\n",
       "\n",
       "    .dataframe thead th {\n",
       "        text-align: right;\n",
       "    }\n",
       "</style>\n",
       "<table border=\"1\" class=\"dataframe\">\n",
       "  <thead>\n",
       "    <tr style=\"text-align: right;\">\n",
       "      <th></th>\n",
       "      <th>Count</th>\n",
       "      <th>ItemId</th>\n",
       "      <th>UserId</th>\n",
       "    </tr>\n",
       "  </thead>\n",
       "  <tbody>\n",
       "    <tr>\n",
       "      <th>0</th>\n",
       "      <td>1</td>\n",
       "      <td>0</td>\n",
       "      <td>0</td>\n",
       "    </tr>\n",
       "    <tr>\n",
       "      <th>1</th>\n",
       "      <td>1</td>\n",
       "      <td>1</td>\n",
       "      <td>0</td>\n",
       "    </tr>\n",
       "    <tr>\n",
       "      <th>2</th>\n",
       "      <td>1</td>\n",
       "      <td>2</td>\n",
       "      <td>0</td>\n",
       "    </tr>\n",
       "    <tr>\n",
       "      <th>3</th>\n",
       "      <td>1</td>\n",
       "      <td>3</td>\n",
       "      <td>0</td>\n",
       "    </tr>\n",
       "    <tr>\n",
       "      <th>4</th>\n",
       "      <td>1</td>\n",
       "      <td>4</td>\n",
       "      <td>1</td>\n",
       "    </tr>\n",
       "    <tr>\n",
       "      <th>5</th>\n",
       "      <td>1</td>\n",
       "      <td>2</td>\n",
       "      <td>1</td>\n",
       "    </tr>\n",
       "    <tr>\n",
       "      <th>6</th>\n",
       "      <td>1</td>\n",
       "      <td>5</td>\n",
       "      <td>1</td>\n",
       "    </tr>\n",
       "    <tr>\n",
       "      <th>7</th>\n",
       "      <td>1</td>\n",
       "      <td>6</td>\n",
       "      <td>1</td>\n",
       "    </tr>\n",
       "    <tr>\n",
       "      <th>8</th>\n",
       "      <td>1</td>\n",
       "      <td>7</td>\n",
       "      <td>1</td>\n",
       "    </tr>\n",
       "    <tr>\n",
       "      <th>11</th>\n",
       "      <td>1</td>\n",
       "      <td>5</td>\n",
       "      <td>2</td>\n",
       "    </tr>\n",
       "    <tr>\n",
       "      <th>12</th>\n",
       "      <td>1</td>\n",
       "      <td>10</td>\n",
       "      <td>2</td>\n",
       "    </tr>\n",
       "    <tr>\n",
       "      <th>13</th>\n",
       "      <td>1</td>\n",
       "      <td>2</td>\n",
       "      <td>2</td>\n",
       "    </tr>\n",
       "    <tr>\n",
       "      <th>14</th>\n",
       "      <td>1</td>\n",
       "      <td>11</td>\n",
       "      <td>3</td>\n",
       "    </tr>\n",
       "    <tr>\n",
       "      <th>15</th>\n",
       "      <td>1</td>\n",
       "      <td>12</td>\n",
       "      <td>3</td>\n",
       "    </tr>\n",
       "    <tr>\n",
       "      <th>16</th>\n",
       "      <td>1</td>\n",
       "      <td>13</td>\n",
       "      <td>4</td>\n",
       "    </tr>\n",
       "    <tr>\n",
       "      <th>17</th>\n",
       "      <td>1</td>\n",
       "      <td>14</td>\n",
       "      <td>4</td>\n",
       "    </tr>\n",
       "    <tr>\n",
       "      <th>18</th>\n",
       "      <td>1</td>\n",
       "      <td>1</td>\n",
       "      <td>4</td>\n",
       "    </tr>\n",
       "    <tr>\n",
       "      <th>19</th>\n",
       "      <td>1</td>\n",
       "      <td>15</td>\n",
       "      <td>5</td>\n",
       "    </tr>\n",
       "    <tr>\n",
       "      <th>20</th>\n",
       "      <td>1</td>\n",
       "      <td>16</td>\n",
       "      <td>5</td>\n",
       "    </tr>\n",
       "    <tr>\n",
       "      <th>21</th>\n",
       "      <td>1</td>\n",
       "      <td>17</td>\n",
       "      <td>6</td>\n",
       "    </tr>\n",
       "    <tr>\n",
       "      <th>22</th>\n",
       "      <td>1</td>\n",
       "      <td>18</td>\n",
       "      <td>6</td>\n",
       "    </tr>\n",
       "    <tr>\n",
       "      <th>23</th>\n",
       "      <td>1</td>\n",
       "      <td>19</td>\n",
       "      <td>7</td>\n",
       "    </tr>\n",
       "    <tr>\n",
       "      <th>24</th>\n",
       "      <td>1</td>\n",
       "      <td>20</td>\n",
       "      <td>8</td>\n",
       "    </tr>\n",
       "    <tr>\n",
       "      <th>25</th>\n",
       "      <td>1</td>\n",
       "      <td>21</td>\n",
       "      <td>8</td>\n",
       "    </tr>\n",
       "    <tr>\n",
       "      <th>26</th>\n",
       "      <td>1</td>\n",
       "      <td>22</td>\n",
       "      <td>8</td>\n",
       "    </tr>\n",
       "    <tr>\n",
       "      <th>27</th>\n",
       "      <td>1</td>\n",
       "      <td>23</td>\n",
       "      <td>8</td>\n",
       "    </tr>\n",
       "    <tr>\n",
       "      <th>28</th>\n",
       "      <td>1</td>\n",
       "      <td>24</td>\n",
       "      <td>8</td>\n",
       "    </tr>\n",
       "    <tr>\n",
       "      <th>30</th>\n",
       "      <td>1</td>\n",
       "      <td>25</td>\n",
       "      <td>9</td>\n",
       "    </tr>\n",
       "    <tr>\n",
       "      <th>31</th>\n",
       "      <td>1</td>\n",
       "      <td>2</td>\n",
       "      <td>9</td>\n",
       "    </tr>\n",
       "    <tr>\n",
       "      <th>32</th>\n",
       "      <td>1</td>\n",
       "      <td>26</td>\n",
       "      <td>9</td>\n",
       "    </tr>\n",
       "    <tr>\n",
       "      <th>...</th>\n",
       "      <td>...</td>\n",
       "      <td>...</td>\n",
       "      <td>...</td>\n",
       "    </tr>\n",
       "    <tr>\n",
       "      <th>484663</th>\n",
       "      <td>1</td>\n",
       "      <td>784</td>\n",
       "      <td>66010</td>\n",
       "    </tr>\n",
       "    <tr>\n",
       "      <th>484670</th>\n",
       "      <td>1</td>\n",
       "      <td>21</td>\n",
       "      <td>66011</td>\n",
       "    </tr>\n",
       "    <tr>\n",
       "      <th>484671</th>\n",
       "      <td>1</td>\n",
       "      <td>2</td>\n",
       "      <td>66011</td>\n",
       "    </tr>\n",
       "    <tr>\n",
       "      <th>484672</th>\n",
       "      <td>1</td>\n",
       "      <td>394</td>\n",
       "      <td>66011</td>\n",
       "    </tr>\n",
       "    <tr>\n",
       "      <th>484673</th>\n",
       "      <td>1</td>\n",
       "      <td>3282</td>\n",
       "      <td>66011</td>\n",
       "    </tr>\n",
       "    <tr>\n",
       "      <th>484674</th>\n",
       "      <td>1</td>\n",
       "      <td>1</td>\n",
       "      <td>66011</td>\n",
       "    </tr>\n",
       "    <tr>\n",
       "      <th>484675</th>\n",
       "      <td>1</td>\n",
       "      <td>453</td>\n",
       "      <td>66012</td>\n",
       "    </tr>\n",
       "    <tr>\n",
       "      <th>484676</th>\n",
       "      <td>1</td>\n",
       "      <td>0</td>\n",
       "      <td>66012</td>\n",
       "    </tr>\n",
       "    <tr>\n",
       "      <th>484677</th>\n",
       "      <td>1</td>\n",
       "      <td>5</td>\n",
       "      <td>66012</td>\n",
       "    </tr>\n",
       "    <tr>\n",
       "      <th>484678</th>\n",
       "      <td>1</td>\n",
       "      <td>882</td>\n",
       "      <td>66012</td>\n",
       "    </tr>\n",
       "    <tr>\n",
       "      <th>484679</th>\n",
       "      <td>1</td>\n",
       "      <td>8</td>\n",
       "      <td>66012</td>\n",
       "    </tr>\n",
       "    <tr>\n",
       "      <th>484681</th>\n",
       "      <td>1</td>\n",
       "      <td>320</td>\n",
       "      <td>66013</td>\n",
       "    </tr>\n",
       "    <tr>\n",
       "      <th>484682</th>\n",
       "      <td>1</td>\n",
       "      <td>13027</td>\n",
       "      <td>66013</td>\n",
       "    </tr>\n",
       "    <tr>\n",
       "      <th>484683</th>\n",
       "      <td>1</td>\n",
       "      <td>105</td>\n",
       "      <td>66014</td>\n",
       "    </tr>\n",
       "    <tr>\n",
       "      <th>484684</th>\n",
       "      <td>1</td>\n",
       "      <td>7086</td>\n",
       "      <td>66014</td>\n",
       "    </tr>\n",
       "    <tr>\n",
       "      <th>484685</th>\n",
       "      <td>1</td>\n",
       "      <td>1717</td>\n",
       "      <td>66014</td>\n",
       "    </tr>\n",
       "    <tr>\n",
       "      <th>484686</th>\n",
       "      <td>1</td>\n",
       "      <td>392</td>\n",
       "      <td>66014</td>\n",
       "    </tr>\n",
       "    <tr>\n",
       "      <th>484687</th>\n",
       "      <td>1</td>\n",
       "      <td>10330</td>\n",
       "      <td>66014</td>\n",
       "    </tr>\n",
       "    <tr>\n",
       "      <th>484691</th>\n",
       "      <td>1</td>\n",
       "      <td>4140</td>\n",
       "      <td>66015</td>\n",
       "    </tr>\n",
       "    <tr>\n",
       "      <th>484692</th>\n",
       "      <td>1</td>\n",
       "      <td>1172</td>\n",
       "      <td>66015</td>\n",
       "    </tr>\n",
       "    <tr>\n",
       "      <th>484693</th>\n",
       "      <td>1</td>\n",
       "      <td>64</td>\n",
       "      <td>66016</td>\n",
       "    </tr>\n",
       "    <tr>\n",
       "      <th>484694</th>\n",
       "      <td>1</td>\n",
       "      <td>855</td>\n",
       "      <td>66016</td>\n",
       "    </tr>\n",
       "    <tr>\n",
       "      <th>484695</th>\n",
       "      <td>1</td>\n",
       "      <td>799</td>\n",
       "      <td>66016</td>\n",
       "    </tr>\n",
       "    <tr>\n",
       "      <th>484696</th>\n",
       "      <td>1</td>\n",
       "      <td>2298</td>\n",
       "      <td>66016</td>\n",
       "    </tr>\n",
       "    <tr>\n",
       "      <th>484697</th>\n",
       "      <td>1</td>\n",
       "      <td>280</td>\n",
       "      <td>66016</td>\n",
       "    </tr>\n",
       "    <tr>\n",
       "      <th>484709</th>\n",
       "      <td>1</td>\n",
       "      <td>588</td>\n",
       "      <td>66017</td>\n",
       "    </tr>\n",
       "    <tr>\n",
       "      <th>484710</th>\n",
       "      <td>1</td>\n",
       "      <td>136</td>\n",
       "      <td>66017</td>\n",
       "    </tr>\n",
       "    <tr>\n",
       "      <th>484711</th>\n",
       "      <td>1</td>\n",
       "      <td>23</td>\n",
       "      <td>66017</td>\n",
       "    </tr>\n",
       "    <tr>\n",
       "      <th>484712</th>\n",
       "      <td>1</td>\n",
       "      <td>784</td>\n",
       "      <td>66017</td>\n",
       "    </tr>\n",
       "    <tr>\n",
       "      <th>484713</th>\n",
       "      <td>1</td>\n",
       "      <td>524</td>\n",
       "      <td>66017</td>\n",
       "    </tr>\n",
       "  </tbody>\n",
       "</table>\n",
       "<p>264309 rows × 3 columns</p>\n",
       "</div>"
      ],
      "text/plain": [
       "        Count  ItemId  UserId\n",
       "0           1       0       0\n",
       "1           1       1       0\n",
       "2           1       2       0\n",
       "3           1       3       0\n",
       "4           1       4       1\n",
       "5           1       2       1\n",
       "6           1       5       1\n",
       "7           1       6       1\n",
       "8           1       7       1\n",
       "11          1       5       2\n",
       "12          1      10       2\n",
       "13          1       2       2\n",
       "14          1      11       3\n",
       "15          1      12       3\n",
       "16          1      13       4\n",
       "17          1      14       4\n",
       "18          1       1       4\n",
       "19          1      15       5\n",
       "20          1      16       5\n",
       "21          1      17       6\n",
       "22          1      18       6\n",
       "23          1      19       7\n",
       "24          1      20       8\n",
       "25          1      21       8\n",
       "26          1      22       8\n",
       "27          1      23       8\n",
       "28          1      24       8\n",
       "30          1      25       9\n",
       "31          1       2       9\n",
       "32          1      26       9\n",
       "...       ...     ...     ...\n",
       "484663      1     784   66010\n",
       "484670      1      21   66011\n",
       "484671      1       2   66011\n",
       "484672      1     394   66011\n",
       "484673      1    3282   66011\n",
       "484674      1       1   66011\n",
       "484675      1     453   66012\n",
       "484676      1       0   66012\n",
       "484677      1       5   66012\n",
       "484678      1     882   66012\n",
       "484679      1       8   66012\n",
       "484681      1     320   66013\n",
       "484682      1   13027   66013\n",
       "484683      1     105   66014\n",
       "484684      1    7086   66014\n",
       "484685      1    1717   66014\n",
       "484686      1     392   66014\n",
       "484687      1   10330   66014\n",
       "484691      1    4140   66015\n",
       "484692      1    1172   66015\n",
       "484693      1      64   66016\n",
       "484694      1     855   66016\n",
       "484695      1     799   66016\n",
       "484696      1    2298   66016\n",
       "484697      1     280   66016\n",
       "484709      1     588   66017\n",
       "484710      1     136   66017\n",
       "484711      1      23   66017\n",
       "484712      1     784   66017\n",
       "484713      1     524   66017\n",
       "\n",
       "[264309 rows x 3 columns]"
      ]
     },
     "execution_count": 29,
     "metadata": {},
     "output_type": "execute_result"
    }
   ],
   "source": [
    "df_user_id.head()"
   ]
  },
  {
   "cell_type": "code",
   "execution_count": 30,
   "metadata": {},
   "outputs": [
    {
     "data": {
      "text/plain": [
       "66018"
      ]
     },
     "execution_count": 30,
     "metadata": {},
     "output_type": "execute_result"
    }
   ],
   "source": [
    "len(df_user_id)"
   ]
  },
  {
   "cell_type": "markdown",
   "metadata": {},
   "source": [
    "#### Split the dataframe grouped by UserId into train and test"
   ]
  },
  {
   "cell_type": "code",
   "execution_count": 31,
   "metadata": {},
   "outputs": [],
   "source": [
    "\"\"\"This is slow somehow. Need to optimize it.\"\"\"\n",
    "dataframe = df_user_id.apply(train_test_split)"
   ]
  },
  {
   "cell_type": "code",
   "execution_count": 33,
   "metadata": {},
   "outputs": [
    {
     "data": {
      "text/plain": [
       "[    Count  ItemId  UserId\n",
       " 10      1       9       1\n",
       " 4       1       4       1\n",
       " 7       1       6       1\n",
       " 9       1       8       1\n",
       " 6       1       5       1,    Count  ItemId  UserId\n",
       " 5      1       2       1\n",
       " 8      1       7       1]"
      ]
     },
     "execution_count": 33,
     "metadata": {},
     "output_type": "execute_result"
    }
   ],
   "source": [
    "dataframe[1]"
   ]
  },
  {
   "cell_type": "code",
   "execution_count": null,
   "metadata": {},
   "outputs": [],
   "source": []
  },
  {
   "cell_type": "code",
   "execution_count": null,
   "metadata": {},
   "outputs": [],
   "source": []
  },
  {
   "cell_type": "code",
   "execution_count": 34,
   "metadata": {},
   "outputs": [],
   "source": [
    "list_df_train = list()\n",
    "list_df_test = list()\n",
    "list_df_validate = list()"
   ]
  },
  {
   "cell_type": "markdown",
   "metadata": {},
   "source": [
    "#### This logic is used to make sure that every user is in training. For details on how data is splitted into train, test and validation set for implicit feedback systems have a look [here](https://jessesw.com/Rec-System/)."
   ]
  },
  {
   "cell_type": "code",
   "execution_count": 35,
   "metadata": {},
   "outputs": [],
   "source": [
    "# \"\"\"This is how this works:\n",
    "\n",
    "#     Data is splitted into train, validate and test parts: 60% train, 20% validate and 20% test data.\n",
    "#     Now, if we have no entries in training data (for example there might be only single item that user interacts with),\n",
    "#     in that case if those entries are not in training data then they might be in test or validate since it's a random split. \n",
    "    \n",
    "#     So, in that case we need to add it to the training data and remove it from test or validate since it's mandatory to have all the\n",
    "#     users in the training set. The item interactions for a specific user, if having a reasonable count, are splitted between train test and validate.\n",
    "# \"\"\"\n",
    "\n",
    "# for s in dataframe:\n",
    "#     \"\"\"If training data is empty.\"\"\"\n",
    "#     if s[0].empty:\n",
    "#         \"\"\"If test data is empty.\"\"\"\n",
    "#         if s[2].empty:\n",
    "#             \"\"\"Add the validation data to training data.\"\"\"\n",
    "#             list_df_train.append(s[1])\n",
    "#         else:\n",
    "#             \"\"\"Add test data to training data.\"\"\"\n",
    "#             list_df_train.append(s[2])\n",
    "#             if not s[1].empty:\n",
    "#                 \"\"\"Add validation data to validation df.\"\"\"\n",
    "#                 list_df_validate.append(s[1])\n",
    "#     else:\n",
    "#         \"\"\"Add respective splits in their respective data frames.\"\"\"\n",
    "#         list_df_train.append(s[0])\n",
    "#         if not s[1].empty:\n",
    "#             list_df_validate.append(s[1])\n",
    "#         if not s[2].empty:\n",
    "#             list_df_test.append(s[2])\n",
    "            "
   ]
  },
  {
   "cell_type": "markdown",
   "metadata": {},
   "source": [
    "#### Same explanation as above goes here, it's just that we split into train and test here."
   ]
  },
  {
   "cell_type": "code",
   "execution_count": 36,
   "metadata": {},
   "outputs": [],
   "source": [
    "for s in dataframe:\n",
    "    if s[0].empty:\n",
    "        list_df_train.append(s[1])\n",
    "    else:\n",
    "        list_df_train.append(s[0])\n",
    "        if not s[1].empty:\n",
    "            list_df_test.append(s[1])"
   ]
  },
  {
   "cell_type": "code",
   "execution_count": null,
   "metadata": {},
   "outputs": [],
   "source": []
  },
  {
   "cell_type": "code",
   "execution_count": 37,
   "metadata": {},
   "outputs": [
    {
     "data": {
      "text/plain": [
       "66018"
      ]
     },
     "execution_count": 37,
     "metadata": {},
     "output_type": "execute_result"
    }
   ],
   "source": [
    "\"\"\"This has to be same as the number of unique manifests.\"\"\"\n",
    "len(list_df_train)"
   ]
  },
  {
   "cell_type": "code",
   "execution_count": 38,
   "metadata": {},
   "outputs": [
    {
     "data": {
      "text/plain": [
       "63396"
      ]
     },
     "execution_count": 38,
     "metadata": {},
     "output_type": "execute_result"
    }
   ],
   "source": [
    "len(list_df_test)"
   ]
  },
  {
   "cell_type": "code",
   "execution_count": 39,
   "metadata": {},
   "outputs": [
    {
     "data": {
      "text/plain": [
       "0"
      ]
     },
     "execution_count": 39,
     "metadata": {},
     "output_type": "execute_result"
    }
   ],
   "source": [
    "len(list_df_validate)"
   ]
  },
  {
   "cell_type": "code",
   "execution_count": 40,
   "metadata": {},
   "outputs": [
    {
     "data": {
      "text/html": [
       "<div>\n",
       "<style scoped>\n",
       "    .dataframe tbody tr th:only-of-type {\n",
       "        vertical-align: middle;\n",
       "    }\n",
       "\n",
       "    .dataframe tbody tr th {\n",
       "        vertical-align: top;\n",
       "    }\n",
       "\n",
       "    .dataframe thead th {\n",
       "        text-align: right;\n",
       "    }\n",
       "</style>\n",
       "<table border=\"1\" class=\"dataframe\">\n",
       "  <thead>\n",
       "    <tr style=\"text-align: right;\">\n",
       "      <th></th>\n",
       "      <th>Count</th>\n",
       "      <th>ItemId</th>\n",
       "      <th>UserId</th>\n",
       "    </tr>\n",
       "  </thead>\n",
       "  <tbody>\n",
       "    <tr>\n",
       "      <th>1</th>\n",
       "      <td>1</td>\n",
       "      <td>1</td>\n",
       "      <td>0</td>\n",
       "    </tr>\n",
       "  </tbody>\n",
       "</table>\n",
       "</div>"
      ],
      "text/plain": [
       "   Count  ItemId  UserId\n",
       "1      1       1       0"
      ]
     },
     "execution_count": 40,
     "metadata": {},
     "output_type": "execute_result"
    }
   ],
   "source": [
    "list_df_test[0]"
   ]
  },
  {
   "cell_type": "code",
   "execution_count": 41,
   "metadata": {},
   "outputs": [],
   "source": [
    "training_data = pandas.concat(list_df_train, ignore_index=True)"
   ]
  },
  {
   "cell_type": "code",
   "execution_count": 42,
   "metadata": {},
   "outputs": [
    {
     "data": {
      "text/plain": [
       "66018"
      ]
     },
     "execution_count": 42,
     "metadata": {},
     "output_type": "execute_result"
    }
   ],
   "source": [
    "len(set(training_data.UserId))"
   ]
  },
  {
   "cell_type": "code",
   "execution_count": 43,
   "metadata": {},
   "outputs": [
    {
     "data": {
      "text/plain": [
       "16566"
      ]
     },
     "execution_count": 43,
     "metadata": {},
     "output_type": "execute_result"
    }
   ],
   "source": [
    "len(set(training_data.ItemId))"
   ]
  },
  {
   "cell_type": "code",
   "execution_count": 44,
   "metadata": {},
   "outputs": [
    {
     "data": {
      "text/plain": [
       "363403"
      ]
     },
     "execution_count": 44,
     "metadata": {},
     "output_type": "execute_result"
    }
   ],
   "source": [
    "len(training_data)"
   ]
  },
  {
   "cell_type": "code",
   "execution_count": 45,
   "metadata": {},
   "outputs": [
    {
     "data": {
      "text/html": [
       "<div>\n",
       "<style scoped>\n",
       "    .dataframe tbody tr th:only-of-type {\n",
       "        vertical-align: middle;\n",
       "    }\n",
       "\n",
       "    .dataframe tbody tr th {\n",
       "        vertical-align: top;\n",
       "    }\n",
       "\n",
       "    .dataframe thead th {\n",
       "        text-align: right;\n",
       "    }\n",
       "</style>\n",
       "<table border=\"1\" class=\"dataframe\">\n",
       "  <thead>\n",
       "    <tr style=\"text-align: right;\">\n",
       "      <th></th>\n",
       "      <th>Count</th>\n",
       "      <th>ItemId</th>\n",
       "      <th>UserId</th>\n",
       "    </tr>\n",
       "  </thead>\n",
       "  <tbody>\n",
       "    <tr>\n",
       "      <th>0</th>\n",
       "      <td>1</td>\n",
       "      <td>3</td>\n",
       "      <td>0</td>\n",
       "    </tr>\n",
       "    <tr>\n",
       "      <th>1</th>\n",
       "      <td>1</td>\n",
       "      <td>2</td>\n",
       "      <td>0</td>\n",
       "    </tr>\n",
       "    <tr>\n",
       "      <th>2</th>\n",
       "      <td>1</td>\n",
       "      <td>0</td>\n",
       "      <td>0</td>\n",
       "    </tr>\n",
       "    <tr>\n",
       "      <th>3</th>\n",
       "      <td>1</td>\n",
       "      <td>9</td>\n",
       "      <td>1</td>\n",
       "    </tr>\n",
       "    <tr>\n",
       "      <th>4</th>\n",
       "      <td>1</td>\n",
       "      <td>4</td>\n",
       "      <td>1</td>\n",
       "    </tr>\n",
       "  </tbody>\n",
       "</table>\n",
       "</div>"
      ],
      "text/plain": [
       "   Count  ItemId  UserId\n",
       "0      1       3       0\n",
       "1      1       2       0\n",
       "2      1       0       0\n",
       "3      1       9       1\n",
       "4      1       4       1"
      ]
     },
     "execution_count": 45,
     "metadata": {},
     "output_type": "execute_result"
    }
   ],
   "source": [
    "training_data.head()"
   ]
  },
  {
   "cell_type": "code",
   "execution_count": 46,
   "metadata": {},
   "outputs": [],
   "source": [
    "test_data = pandas.concat(list_df_test, ignore_index=True)"
   ]
  },
  {
   "cell_type": "code",
   "execution_count": 47,
   "metadata": {},
   "outputs": [
    {
     "data": {
      "text/plain": [
       "121314"
      ]
     },
     "execution_count": 47,
     "metadata": {},
     "output_type": "execute_result"
    }
   ],
   "source": [
    "len(test_data)"
   ]
  },
  {
   "cell_type": "code",
   "execution_count": 48,
   "metadata": {},
   "outputs": [
    {
     "data": {
      "text/html": [
       "<div>\n",
       "<style scoped>\n",
       "    .dataframe tbody tr th:only-of-type {\n",
       "        vertical-align: middle;\n",
       "    }\n",
       "\n",
       "    .dataframe tbody tr th {\n",
       "        vertical-align: top;\n",
       "    }\n",
       "\n",
       "    .dataframe thead th {\n",
       "        text-align: right;\n",
       "    }\n",
       "</style>\n",
       "<table border=\"1\" class=\"dataframe\">\n",
       "  <thead>\n",
       "    <tr style=\"text-align: right;\">\n",
       "      <th></th>\n",
       "      <th>Count</th>\n",
       "      <th>ItemId</th>\n",
       "      <th>UserId</th>\n",
       "    </tr>\n",
       "  </thead>\n",
       "  <tbody>\n",
       "    <tr>\n",
       "      <th>0</th>\n",
       "      <td>1</td>\n",
       "      <td>1</td>\n",
       "      <td>0</td>\n",
       "    </tr>\n",
       "    <tr>\n",
       "      <th>1</th>\n",
       "      <td>1</td>\n",
       "      <td>2</td>\n",
       "      <td>1</td>\n",
       "    </tr>\n",
       "    <tr>\n",
       "      <th>2</th>\n",
       "      <td>1</td>\n",
       "      <td>7</td>\n",
       "      <td>1</td>\n",
       "    </tr>\n",
       "    <tr>\n",
       "      <th>3</th>\n",
       "      <td>1</td>\n",
       "      <td>10</td>\n",
       "      <td>2</td>\n",
       "    </tr>\n",
       "    <tr>\n",
       "      <th>4</th>\n",
       "      <td>1</td>\n",
       "      <td>11</td>\n",
       "      <td>3</td>\n",
       "    </tr>\n",
       "  </tbody>\n",
       "</table>\n",
       "</div>"
      ],
      "text/plain": [
       "   Count  ItemId  UserId\n",
       "0      1       1       0\n",
       "1      1       2       1\n",
       "2      1       7       1\n",
       "3      1      10       2\n",
       "4      1      11       3"
      ]
     },
     "execution_count": 48,
     "metadata": {},
     "output_type": "execute_result"
    }
   ],
   "source": [
    "test_data.head()"
   ]
  },
  {
   "cell_type": "code",
   "execution_count": 49,
   "metadata": {},
   "outputs": [],
   "source": [
    "# validate_data = pandas.concat(list_df_validate, ignore_index=True)"
   ]
  },
  {
   "cell_type": "markdown",
   "metadata": {},
   "source": [
    "#### A sanity check to see if there are different rows. There shouldn't be any overlap between train, test and validate data.\n"
   ]
  },
  {
   "cell_type": "code",
   "execution_count": 50,
   "metadata": {},
   "outputs": [],
   "source": [
    "x = pandas.merge(training_data, test_data, how='inner', on=['Count', 'ItemId', 'UserId'])\n",
    "assert x.empty\n",
    "# x = pandas.merge(training_data, validate_data, how='inner', on=['Count', 'ItemId', 'UserId'])\n",
    "# assert x.empty\n",
    "# x = pandas.merge(test_data, validate_data, how='inner', on=['Count', 'ItemId', 'UserId'])\n",
    "# assert x.empty"
   ]
  },
  {
   "cell_type": "code",
   "execution_count": 51,
   "metadata": {},
   "outputs": [
    {
     "data": {
      "text/plain": [
       "0"
      ]
     },
     "execution_count": 51,
     "metadata": {},
     "output_type": "execute_result"
    }
   ],
   "source": [
    "len(x)"
   ]
  },
  {
   "cell_type": "code",
   "execution_count": 52,
   "metadata": {},
   "outputs": [],
   "source": [
    "training_data.to_pickle('./training-data-without-trans.pkl')"
   ]
  },
  {
   "cell_type": "code",
   "execution_count": 53,
   "metadata": {},
   "outputs": [],
   "source": [
    "test_data.to_pickle('./test-data-without-trans.pkl')"
   ]
  },
  {
   "cell_type": "code",
   "execution_count": 50,
   "metadata": {},
   "outputs": [],
   "source": [
    "# validate_df.to_pickle('./validation-data.pkl')"
   ]
  }
 ],
 "metadata": {
  "kernelspec": {
   "display_name": "Python 3",
   "language": "python",
   "name": "python3"
  },
  "language_info": {
   "codemirror_mode": {
    "name": "ipython",
    "version": 3
   },
   "file_extension": ".py",
   "mimetype": "text/x-python",
   "name": "python",
   "nbconvert_exporter": "python",
   "pygments_lexer": "ipython3",
   "version": "3.6.3"
  }
 },
 "nbformat": 4,
 "nbformat_minor": 2
}
