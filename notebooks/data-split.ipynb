{
 "cells": [
  {
   "cell_type": "markdown",
   "metadata": {},
   "source": [
    "### Data Splitting\n",
    "\n",
    "This notebook contains code to split data into train and test data. You can also split the data into train, test and validate. See the comments inline for more detail."
   ]
  },
  {
   "cell_type": "code",
   "execution_count": 51,
   "metadata": {},
   "outputs": [],
   "source": [
    "import json   "
   ]
  },
  {
   "cell_type": "markdown",
   "metadata": {},
   "source": [
    "#### Create package to id dict for packages. Maps each package to a unique id."
   ]
  },
  {
   "cell_type": "code",
   "execution_count": null,
   "metadata": {},
   "outputs": [],
   "source": [
    "with open('manifest-list-trimmed-unique.json', 'r') as f:\n",
    "    a = 0\n",
    "    content = json.load(f)\n",
    "    x = dict()\n",
    "    for package_list in content[0].get('package_list'):\n",
    "        for package in package_list:\n",
    "            if package:\n",
    "                if package not in x:\n",
    "                    x[package] = a\n",
    "                    a = a+1"
   ]
  },
  {
   "cell_type": "code",
   "execution_count": null,
   "metadata": {},
   "outputs": [],
   "source": [
    "with open('package-to-id-dict-normalized.json', 'w') as w:\n",
    "    json.dump(x, w)"
   ]
  },
  {
   "cell_type": "markdown",
   "metadata": {},
   "source": [
    "#### Create item id to package mapping"
   ]
  },
  {
   "cell_type": "code",
   "execution_count": null,
   "metadata": {},
   "outputs": [],
   "source": [
    "id_to_package_dict = {v: k for k, v in x.items()}"
   ]
  },
  {
   "cell_type": "code",
   "execution_count": null,
   "metadata": {},
   "outputs": [],
   "source": []
  },
  {
   "cell_type": "code",
   "execution_count": null,
   "metadata": {},
   "outputs": [],
   "source": [
    "with open('id-to-package-dict.json', 'w') as w:\n",
    "    json.dump(id_to_package_dict, w)"
   ]
  },
  {
   "cell_type": "markdown",
   "metadata": {},
   "source": [
    "#### Create id to manifest mapping. Each unique manifest is mapped to a unique id."
   ]
  },
  {
   "cell_type": "code",
   "execution_count": null,
   "metadata": {},
   "outputs": [],
   "source": [
    "\"\"\"Create an id to manifest mapping. Maps each unique manifest to a unique id.\"\"\"\n",
    "with open('manifest-list-trimmed-unique.json', 'r') as f:\n",
    "    content = json.load(f)\n",
    "    a = 0\n",
    "    id_to_manifest_dict = dict()\n",
    "    for manifest in content[0].get('package_list'):\n",
    "        id_to_manifest_dict[a] = manifest\n",
    "        a += 1"
   ]
  },
  {
   "cell_type": "code",
   "execution_count": null,
   "metadata": {},
   "outputs": [],
   "source": [
    "with open('id-to-manifest-dict.json', 'w') as w:\n",
    "    json.dump(id_to_manifest_dict, w)"
   ]
  },
  {
   "cell_type": "markdown",
   "metadata": {},
   "source": [
    "#### Create a manifest to id mapping"
   ]
  },
  {
   "cell_type": "code",
   "execution_count": null,
   "metadata": {},
   "outputs": [],
   "source": [
    "manifest_to_id_dict = {frozenset(v): k for k,v in id_to_manifest_dict.items()}"
   ]
  },
  {
   "cell_type": "code",
   "execution_count": null,
   "metadata": {},
   "outputs": [],
   "source": [
    "\"\"\"Create a manifest to id mapping. Maps each unique manifest to a unique id.\"\"\"\n",
    "\n",
    "import pickle\n",
    "\n",
    "with open('manifest-to-id.pickle', 'wb') as w:\n",
    "    pickle.dump(manifest_to_id_dict, w, protocol=pickle.HIGHEST_PROTOCOL)"
   ]
  },
  {
   "cell_type": "code",
   "execution_count": 52,
   "metadata": {},
   "outputs": [],
   "source": [
    "import pandas"
   ]
  },
  {
   "cell_type": "code",
   "execution_count": null,
   "metadata": {},
   "outputs": [],
   "source": [
    "with open('id-to-manifest-dict.json', 'r') as f:\n",
    "    content = json.load(f)\n",
    "    df = pandas.DataFrame.from_dict(content, orient='index')"
   ]
  },
  {
   "cell_type": "code",
   "execution_count": null,
   "metadata": {},
   "outputs": [],
   "source": [
    "del(content)"
   ]
  },
  {
   "cell_type": "markdown",
   "metadata": {},
   "source": [
    "#### Create a dataframe with three columns UserId, ItemId, Count for every manifest. Each manifest is a user and the packages are items and the count is 1."
   ]
  },
  {
   "cell_type": "code",
   "execution_count": null,
   "metadata": {},
   "outputs": [],
   "source": [
    "data_mapping_list = []"
   ]
  },
  {
   "cell_type": "code",
   "execution_count": null,
   "metadata": {},
   "outputs": [],
   "source": [
    "with open('id-to-manifest-dict.json', 'r') as m, open('package-to-id-dict-normalized.json', 'r') as p:\n",
    "    content_man = json.load(m)\n",
    "    content_pack = json.load(p)\n",
    "    for k,v in content_man.items():\n",
    "        userId = int(k)\n",
    "        for package in v:\n",
    "            itemId = content_pack[package]\n",
    "            count = 1\n",
    "            data_mapping_list.append(\n",
    "                {\n",
    "                    \"UserId\": userId,\n",
    "                    \"ItemId\": itemId,\n",
    "                    \"Count\": 1\n",
    "                }\n",
    "            )"
   ]
  },
  {
   "cell_type": "code",
   "execution_count": null,
   "metadata": {},
   "outputs": [],
   "source": [
    "with open('user-item-matrix.json', 'w') as f:\n",
    "    json.dump(data_mapping_list, f)"
   ]
  },
  {
   "cell_type": "markdown",
   "metadata": {},
   "source": [
    "#### The model accepts the data in form of a dataframe. Hence load the user item matrix as a dataframe."
   ]
  },
  {
   "cell_type": "code",
   "execution_count": 6,
   "metadata": {},
   "outputs": [],
   "source": [
    "with open('user-item-matrix.json', 'r') as f:\n",
    "    df = pandas.read_json(f, orient='records')"
   ]
  },
  {
   "cell_type": "code",
   "execution_count": 7,
   "metadata": {},
   "outputs": [],
   "source": [
    "import numpy as np"
   ]
  },
  {
   "cell_type": "code",
   "execution_count": 8,
   "metadata": {},
   "outputs": [
    {
     "data": {
      "text/html": [
       "<div>\n",
       "<style scoped>\n",
       "    .dataframe tbody tr th:only-of-type {\n",
       "        vertical-align: middle;\n",
       "    }\n",
       "\n",
       "    .dataframe tbody tr th {\n",
       "        vertical-align: top;\n",
       "    }\n",
       "\n",
       "    .dataframe thead th {\n",
       "        text-align: right;\n",
       "    }\n",
       "</style>\n",
       "<table border=\"1\" class=\"dataframe\">\n",
       "  <thead>\n",
       "    <tr style=\"text-align: right;\">\n",
       "      <th></th>\n",
       "      <th>Count</th>\n",
       "      <th>ItemId</th>\n",
       "      <th>UserId</th>\n",
       "    </tr>\n",
       "  </thead>\n",
       "  <tbody>\n",
       "    <tr>\n",
       "      <th>0</th>\n",
       "      <td>1</td>\n",
       "      <td>0</td>\n",
       "      <td>0</td>\n",
       "    </tr>\n",
       "    <tr>\n",
       "      <th>1</th>\n",
       "      <td>1</td>\n",
       "      <td>1</td>\n",
       "      <td>0</td>\n",
       "    </tr>\n",
       "    <tr>\n",
       "      <th>2</th>\n",
       "      <td>1</td>\n",
       "      <td>2</td>\n",
       "      <td>0</td>\n",
       "    </tr>\n",
       "    <tr>\n",
       "      <th>3</th>\n",
       "      <td>1</td>\n",
       "      <td>3</td>\n",
       "      <td>0</td>\n",
       "    </tr>\n",
       "    <tr>\n",
       "      <th>4</th>\n",
       "      <td>1</td>\n",
       "      <td>4</td>\n",
       "      <td>1</td>\n",
       "    </tr>\n",
       "  </tbody>\n",
       "</table>\n",
       "</div>"
      ],
      "text/plain": [
       "   Count  ItemId  UserId\n",
       "0      1       0       0\n",
       "1      1       1       0\n",
       "2      1       2       0\n",
       "3      1       3       0\n",
       "4      1       4       1"
      ]
     },
     "execution_count": 8,
     "metadata": {},
     "output_type": "execute_result"
    }
   ],
   "source": [
    "df.head()"
   ]
  },
  {
   "cell_type": "markdown",
   "metadata": {},
   "source": [
    "#### Group the dataframe by UserId since we want every user to be a part of training. This is because of the fact that this model can only validate the log likelihood on seen users and items."
   ]
  },
  {
   "cell_type": "code",
   "execution_count": 9,
   "metadata": {},
   "outputs": [],
   "source": [
    "df_user_id = df.groupby(\"UserId\")"
   ]
  },
  {
   "cell_type": "code",
   "execution_count": 10,
   "metadata": {},
   "outputs": [
    {
     "data": {
      "text/html": [
       "<div>\n",
       "<style scoped>\n",
       "    .dataframe tbody tr th:only-of-type {\n",
       "        vertical-align: middle;\n",
       "    }\n",
       "\n",
       "    .dataframe tbody tr th {\n",
       "        vertical-align: top;\n",
       "    }\n",
       "\n",
       "    .dataframe thead th {\n",
       "        text-align: right;\n",
       "    }\n",
       "</style>\n",
       "<table border=\"1\" class=\"dataframe\">\n",
       "  <thead>\n",
       "    <tr style=\"text-align: right;\">\n",
       "      <th></th>\n",
       "      <th>Count</th>\n",
       "      <th>ItemId</th>\n",
       "      <th>UserId</th>\n",
       "    </tr>\n",
       "  </thead>\n",
       "  <tbody>\n",
       "    <tr>\n",
       "      <th>0</th>\n",
       "      <td>1</td>\n",
       "      <td>0</td>\n",
       "      <td>0</td>\n",
       "    </tr>\n",
       "    <tr>\n",
       "      <th>1</th>\n",
       "      <td>1</td>\n",
       "      <td>1</td>\n",
       "      <td>0</td>\n",
       "    </tr>\n",
       "    <tr>\n",
       "      <th>2</th>\n",
       "      <td>1</td>\n",
       "      <td>2</td>\n",
       "      <td>0</td>\n",
       "    </tr>\n",
       "    <tr>\n",
       "      <th>3</th>\n",
       "      <td>1</td>\n",
       "      <td>3</td>\n",
       "      <td>0</td>\n",
       "    </tr>\n",
       "    <tr>\n",
       "      <th>4</th>\n",
       "      <td>1</td>\n",
       "      <td>4</td>\n",
       "      <td>1</td>\n",
       "    </tr>\n",
       "    <tr>\n",
       "      <th>5</th>\n",
       "      <td>1</td>\n",
       "      <td>2</td>\n",
       "      <td>1</td>\n",
       "    </tr>\n",
       "    <tr>\n",
       "      <th>6</th>\n",
       "      <td>1</td>\n",
       "      <td>5</td>\n",
       "      <td>1</td>\n",
       "    </tr>\n",
       "    <tr>\n",
       "      <th>7</th>\n",
       "      <td>1</td>\n",
       "      <td>6</td>\n",
       "      <td>1</td>\n",
       "    </tr>\n",
       "    <tr>\n",
       "      <th>8</th>\n",
       "      <td>1</td>\n",
       "      <td>7</td>\n",
       "      <td>2</td>\n",
       "    </tr>\n",
       "    <tr>\n",
       "      <th>9</th>\n",
       "      <td>1</td>\n",
       "      <td>8</td>\n",
       "      <td>2</td>\n",
       "    </tr>\n",
       "    <tr>\n",
       "      <th>10</th>\n",
       "      <td>1</td>\n",
       "      <td>9</td>\n",
       "      <td>2</td>\n",
       "    </tr>\n",
       "    <tr>\n",
       "      <th>11</th>\n",
       "      <td>1</td>\n",
       "      <td>10</td>\n",
       "      <td>2</td>\n",
       "    </tr>\n",
       "    <tr>\n",
       "      <th>12</th>\n",
       "      <td>1</td>\n",
       "      <td>11</td>\n",
       "      <td>2</td>\n",
       "    </tr>\n",
       "    <tr>\n",
       "      <th>14</th>\n",
       "      <td>1</td>\n",
       "      <td>13</td>\n",
       "      <td>3</td>\n",
       "    </tr>\n",
       "    <tr>\n",
       "      <th>15</th>\n",
       "      <td>1</td>\n",
       "      <td>14</td>\n",
       "      <td>3</td>\n",
       "    </tr>\n",
       "    <tr>\n",
       "      <th>16</th>\n",
       "      <td>1</td>\n",
       "      <td>15</td>\n",
       "      <td>3</td>\n",
       "    </tr>\n",
       "    <tr>\n",
       "      <th>17</th>\n",
       "      <td>1</td>\n",
       "      <td>16</td>\n",
       "      <td>3</td>\n",
       "    </tr>\n",
       "    <tr>\n",
       "      <th>18</th>\n",
       "      <td>1</td>\n",
       "      <td>17</td>\n",
       "      <td>3</td>\n",
       "    </tr>\n",
       "    <tr>\n",
       "      <th>19</th>\n",
       "      <td>1</td>\n",
       "      <td>18</td>\n",
       "      <td>4</td>\n",
       "    </tr>\n",
       "    <tr>\n",
       "      <th>20</th>\n",
       "      <td>1</td>\n",
       "      <td>19</td>\n",
       "      <td>4</td>\n",
       "    </tr>\n",
       "    <tr>\n",
       "      <th>21</th>\n",
       "      <td>1</td>\n",
       "      <td>20</td>\n",
       "      <td>4</td>\n",
       "    </tr>\n",
       "    <tr>\n",
       "      <th>22</th>\n",
       "      <td>1</td>\n",
       "      <td>21</td>\n",
       "      <td>4</td>\n",
       "    </tr>\n",
       "    <tr>\n",
       "      <th>23</th>\n",
       "      <td>1</td>\n",
       "      <td>22</td>\n",
       "      <td>4</td>\n",
       "    </tr>\n",
       "    <tr>\n",
       "      <th>29</th>\n",
       "      <td>1</td>\n",
       "      <td>28</td>\n",
       "      <td>5</td>\n",
       "    </tr>\n",
       "    <tr>\n",
       "      <th>30</th>\n",
       "      <td>1</td>\n",
       "      <td>29</td>\n",
       "      <td>5</td>\n",
       "    </tr>\n",
       "    <tr>\n",
       "      <th>31</th>\n",
       "      <td>1</td>\n",
       "      <td>30</td>\n",
       "      <td>5</td>\n",
       "    </tr>\n",
       "    <tr>\n",
       "      <th>32</th>\n",
       "      <td>1</td>\n",
       "      <td>10</td>\n",
       "      <td>5</td>\n",
       "    </tr>\n",
       "    <tr>\n",
       "      <th>33</th>\n",
       "      <td>1</td>\n",
       "      <td>31</td>\n",
       "      <td>5</td>\n",
       "    </tr>\n",
       "    <tr>\n",
       "      <th>69</th>\n",
       "      <td>1</td>\n",
       "      <td>36</td>\n",
       "      <td>6</td>\n",
       "    </tr>\n",
       "    <tr>\n",
       "      <th>70</th>\n",
       "      <td>1</td>\n",
       "      <td>2</td>\n",
       "      <td>6</td>\n",
       "    </tr>\n",
       "    <tr>\n",
       "      <th>...</th>\n",
       "      <td>...</td>\n",
       "      <td>...</td>\n",
       "      <td>...</td>\n",
       "    </tr>\n",
       "    <tr>\n",
       "      <th>751386</th>\n",
       "      <td>1</td>\n",
       "      <td>2199</td>\n",
       "      <td>69125</td>\n",
       "    </tr>\n",
       "    <tr>\n",
       "      <th>751387</th>\n",
       "      <td>1</td>\n",
       "      <td>2200</td>\n",
       "      <td>69125</td>\n",
       "    </tr>\n",
       "    <tr>\n",
       "      <th>751388</th>\n",
       "      <td>1</td>\n",
       "      <td>36</td>\n",
       "      <td>69125</td>\n",
       "    </tr>\n",
       "    <tr>\n",
       "      <th>751389</th>\n",
       "      <td>1</td>\n",
       "      <td>430</td>\n",
       "      <td>69125</td>\n",
       "    </tr>\n",
       "    <tr>\n",
       "      <th>751397</th>\n",
       "      <td>1</td>\n",
       "      <td>270</td>\n",
       "      <td>69126</td>\n",
       "    </tr>\n",
       "    <tr>\n",
       "      <th>751398</th>\n",
       "      <td>1</td>\n",
       "      <td>1286</td>\n",
       "      <td>69126</td>\n",
       "    </tr>\n",
       "    <tr>\n",
       "      <th>751399</th>\n",
       "      <td>1</td>\n",
       "      <td>2</td>\n",
       "      <td>69127</td>\n",
       "    </tr>\n",
       "    <tr>\n",
       "      <th>751400</th>\n",
       "      <td>1</td>\n",
       "      <td>4445</td>\n",
       "      <td>69127</td>\n",
       "    </tr>\n",
       "    <tr>\n",
       "      <th>751401</th>\n",
       "      <td>1</td>\n",
       "      <td>19112</td>\n",
       "      <td>69128</td>\n",
       "    </tr>\n",
       "    <tr>\n",
       "      <th>751402</th>\n",
       "      <td>1</td>\n",
       "      <td>80</td>\n",
       "      <td>69129</td>\n",
       "    </tr>\n",
       "    <tr>\n",
       "      <th>751403</th>\n",
       "      <td>1</td>\n",
       "      <td>73</td>\n",
       "      <td>69129</td>\n",
       "    </tr>\n",
       "    <tr>\n",
       "      <th>751404</th>\n",
       "      <td>1</td>\n",
       "      <td>635</td>\n",
       "      <td>69129</td>\n",
       "    </tr>\n",
       "    <tr>\n",
       "      <th>751405</th>\n",
       "      <td>1</td>\n",
       "      <td>36</td>\n",
       "      <td>69130</td>\n",
       "    </tr>\n",
       "    <tr>\n",
       "      <th>751406</th>\n",
       "      <td>1</td>\n",
       "      <td>2</td>\n",
       "      <td>69130</td>\n",
       "    </tr>\n",
       "    <tr>\n",
       "      <th>751407</th>\n",
       "      <td>1</td>\n",
       "      <td>378</td>\n",
       "      <td>69130</td>\n",
       "    </tr>\n",
       "    <tr>\n",
       "      <th>751408</th>\n",
       "      <td>1</td>\n",
       "      <td>210</td>\n",
       "      <td>69130</td>\n",
       "    </tr>\n",
       "    <tr>\n",
       "      <th>751409</th>\n",
       "      <td>1</td>\n",
       "      <td>69</td>\n",
       "      <td>69130</td>\n",
       "    </tr>\n",
       "    <tr>\n",
       "      <th>751416</th>\n",
       "      <td>1</td>\n",
       "      <td>72</td>\n",
       "      <td>69131</td>\n",
       "    </tr>\n",
       "    <tr>\n",
       "      <th>751417</th>\n",
       "      <td>1</td>\n",
       "      <td>108</td>\n",
       "      <td>69131</td>\n",
       "    </tr>\n",
       "    <tr>\n",
       "      <th>751418</th>\n",
       "      <td>1</td>\n",
       "      <td>382</td>\n",
       "      <td>69131</td>\n",
       "    </tr>\n",
       "    <tr>\n",
       "      <th>751419</th>\n",
       "      <td>1</td>\n",
       "      <td>33</td>\n",
       "      <td>69132</td>\n",
       "    </tr>\n",
       "    <tr>\n",
       "      <th>751420</th>\n",
       "      <td>1</td>\n",
       "      <td>5</td>\n",
       "      <td>69132</td>\n",
       "    </tr>\n",
       "    <tr>\n",
       "      <th>751421</th>\n",
       "      <td>1</td>\n",
       "      <td>223</td>\n",
       "      <td>69132</td>\n",
       "    </tr>\n",
       "    <tr>\n",
       "      <th>751422</th>\n",
       "      <td>1</td>\n",
       "      <td>421</td>\n",
       "      <td>69132</td>\n",
       "    </tr>\n",
       "    <tr>\n",
       "      <th>751423</th>\n",
       "      <td>1</td>\n",
       "      <td>2</td>\n",
       "      <td>69132</td>\n",
       "    </tr>\n",
       "    <tr>\n",
       "      <th>751428</th>\n",
       "      <td>1</td>\n",
       "      <td>270</td>\n",
       "      <td>69133</td>\n",
       "    </tr>\n",
       "    <tr>\n",
       "      <th>751429</th>\n",
       "      <td>1</td>\n",
       "      <td>1214</td>\n",
       "      <td>69133</td>\n",
       "    </tr>\n",
       "    <tr>\n",
       "      <th>751430</th>\n",
       "      <td>1</td>\n",
       "      <td>333</td>\n",
       "      <td>69133</td>\n",
       "    </tr>\n",
       "    <tr>\n",
       "      <th>751431</th>\n",
       "      <td>1</td>\n",
       "      <td>115</td>\n",
       "      <td>69133</td>\n",
       "    </tr>\n",
       "    <tr>\n",
       "      <th>751432</th>\n",
       "      <td>1</td>\n",
       "      <td>1216</td>\n",
       "      <td>69133</td>\n",
       "    </tr>\n",
       "  </tbody>\n",
       "</table>\n",
       "<p>292199 rows × 3 columns</p>\n",
       "</div>"
      ],
      "text/plain": [
       "        Count  ItemId  UserId\n",
       "0           1       0       0\n",
       "1           1       1       0\n",
       "2           1       2       0\n",
       "3           1       3       0\n",
       "4           1       4       1\n",
       "5           1       2       1\n",
       "6           1       5       1\n",
       "7           1       6       1\n",
       "8           1       7       2\n",
       "9           1       8       2\n",
       "10          1       9       2\n",
       "11          1      10       2\n",
       "12          1      11       2\n",
       "14          1      13       3\n",
       "15          1      14       3\n",
       "16          1      15       3\n",
       "17          1      16       3\n",
       "18          1      17       3\n",
       "19          1      18       4\n",
       "20          1      19       4\n",
       "21          1      20       4\n",
       "22          1      21       4\n",
       "23          1      22       4\n",
       "29          1      28       5\n",
       "30          1      29       5\n",
       "31          1      30       5\n",
       "32          1      10       5\n",
       "33          1      31       5\n",
       "69          1      36       6\n",
       "70          1       2       6\n",
       "...       ...     ...     ...\n",
       "751386      1    2199   69125\n",
       "751387      1    2200   69125\n",
       "751388      1      36   69125\n",
       "751389      1     430   69125\n",
       "751397      1     270   69126\n",
       "751398      1    1286   69126\n",
       "751399      1       2   69127\n",
       "751400      1    4445   69127\n",
       "751401      1   19112   69128\n",
       "751402      1      80   69129\n",
       "751403      1      73   69129\n",
       "751404      1     635   69129\n",
       "751405      1      36   69130\n",
       "751406      1       2   69130\n",
       "751407      1     378   69130\n",
       "751408      1     210   69130\n",
       "751409      1      69   69130\n",
       "751416      1      72   69131\n",
       "751417      1     108   69131\n",
       "751418      1     382   69131\n",
       "751419      1      33   69132\n",
       "751420      1       5   69132\n",
       "751421      1     223   69132\n",
       "751422      1     421   69132\n",
       "751423      1       2   69132\n",
       "751428      1     270   69133\n",
       "751429      1    1214   69133\n",
       "751430      1     333   69133\n",
       "751431      1     115   69133\n",
       "751432      1    1216   69133\n",
       "\n",
       "[292199 rows x 3 columns]"
      ]
     },
     "execution_count": 10,
     "metadata": {},
     "output_type": "execute_result"
    }
   ],
   "source": [
    "df_user_id.head()"
   ]
  },
  {
   "cell_type": "markdown",
   "metadata": {},
   "source": [
    "#### This creates train, test, validation split of data. 60% is given to training, 20% to validate and test respectively."
   ]
  },
  {
   "cell_type": "code",
   "execution_count": 11,
   "metadata": {},
   "outputs": [],
   "source": [
    "def train_test_validate_split(df):\n",
    "    return np.split(df.sample(frac=1), [int(.6*len(df)), int(.8*len(df))])"
   ]
  },
  {
   "cell_type": "markdown",
   "metadata": {},
   "source": [
    "#### This creates only train and test split. 80% is training and 20% is testing."
   ]
  },
  {
   "cell_type": "code",
   "execution_count": 12,
   "metadata": {},
   "outputs": [],
   "source": [
    "def train_test_split(df):\n",
    "    return np.split(df.sample(frac=1), [int(.8*len(df))])"
   ]
  },
  {
   "cell_type": "code",
   "execution_count": 13,
   "metadata": {},
   "outputs": [
    {
     "data": {
      "text/html": [
       "<div>\n",
       "<style scoped>\n",
       "    .dataframe tbody tr th:only-of-type {\n",
       "        vertical-align: middle;\n",
       "    }\n",
       "\n",
       "    .dataframe tbody tr th {\n",
       "        vertical-align: top;\n",
       "    }\n",
       "\n",
       "    .dataframe thead th {\n",
       "        text-align: right;\n",
       "    }\n",
       "</style>\n",
       "<table border=\"1\" class=\"dataframe\">\n",
       "  <thead>\n",
       "    <tr style=\"text-align: right;\">\n",
       "      <th></th>\n",
       "      <th>Count</th>\n",
       "      <th>ItemId</th>\n",
       "      <th>UserId</th>\n",
       "    </tr>\n",
       "  </thead>\n",
       "  <tbody>\n",
       "    <tr>\n",
       "      <th>0</th>\n",
       "      <td>1</td>\n",
       "      <td>0</td>\n",
       "      <td>0</td>\n",
       "    </tr>\n",
       "    <tr>\n",
       "      <th>1</th>\n",
       "      <td>1</td>\n",
       "      <td>1</td>\n",
       "      <td>0</td>\n",
       "    </tr>\n",
       "    <tr>\n",
       "      <th>2</th>\n",
       "      <td>1</td>\n",
       "      <td>2</td>\n",
       "      <td>0</td>\n",
       "    </tr>\n",
       "    <tr>\n",
       "      <th>3</th>\n",
       "      <td>1</td>\n",
       "      <td>3</td>\n",
       "      <td>0</td>\n",
       "    </tr>\n",
       "    <tr>\n",
       "      <th>4</th>\n",
       "      <td>1</td>\n",
       "      <td>4</td>\n",
       "      <td>1</td>\n",
       "    </tr>\n",
       "    <tr>\n",
       "      <th>5</th>\n",
       "      <td>1</td>\n",
       "      <td>2</td>\n",
       "      <td>1</td>\n",
       "    </tr>\n",
       "    <tr>\n",
       "      <th>6</th>\n",
       "      <td>1</td>\n",
       "      <td>5</td>\n",
       "      <td>1</td>\n",
       "    </tr>\n",
       "    <tr>\n",
       "      <th>7</th>\n",
       "      <td>1</td>\n",
       "      <td>6</td>\n",
       "      <td>1</td>\n",
       "    </tr>\n",
       "    <tr>\n",
       "      <th>8</th>\n",
       "      <td>1</td>\n",
       "      <td>7</td>\n",
       "      <td>2</td>\n",
       "    </tr>\n",
       "    <tr>\n",
       "      <th>9</th>\n",
       "      <td>1</td>\n",
       "      <td>8</td>\n",
       "      <td>2</td>\n",
       "    </tr>\n",
       "    <tr>\n",
       "      <th>10</th>\n",
       "      <td>1</td>\n",
       "      <td>9</td>\n",
       "      <td>2</td>\n",
       "    </tr>\n",
       "    <tr>\n",
       "      <th>11</th>\n",
       "      <td>1</td>\n",
       "      <td>10</td>\n",
       "      <td>2</td>\n",
       "    </tr>\n",
       "    <tr>\n",
       "      <th>12</th>\n",
       "      <td>1</td>\n",
       "      <td>11</td>\n",
       "      <td>2</td>\n",
       "    </tr>\n",
       "    <tr>\n",
       "      <th>14</th>\n",
       "      <td>1</td>\n",
       "      <td>13</td>\n",
       "      <td>3</td>\n",
       "    </tr>\n",
       "    <tr>\n",
       "      <th>15</th>\n",
       "      <td>1</td>\n",
       "      <td>14</td>\n",
       "      <td>3</td>\n",
       "    </tr>\n",
       "    <tr>\n",
       "      <th>16</th>\n",
       "      <td>1</td>\n",
       "      <td>15</td>\n",
       "      <td>3</td>\n",
       "    </tr>\n",
       "    <tr>\n",
       "      <th>17</th>\n",
       "      <td>1</td>\n",
       "      <td>16</td>\n",
       "      <td>3</td>\n",
       "    </tr>\n",
       "    <tr>\n",
       "      <th>18</th>\n",
       "      <td>1</td>\n",
       "      <td>17</td>\n",
       "      <td>3</td>\n",
       "    </tr>\n",
       "    <tr>\n",
       "      <th>19</th>\n",
       "      <td>1</td>\n",
       "      <td>18</td>\n",
       "      <td>4</td>\n",
       "    </tr>\n",
       "    <tr>\n",
       "      <th>20</th>\n",
       "      <td>1</td>\n",
       "      <td>19</td>\n",
       "      <td>4</td>\n",
       "    </tr>\n",
       "    <tr>\n",
       "      <th>21</th>\n",
       "      <td>1</td>\n",
       "      <td>20</td>\n",
       "      <td>4</td>\n",
       "    </tr>\n",
       "    <tr>\n",
       "      <th>22</th>\n",
       "      <td>1</td>\n",
       "      <td>21</td>\n",
       "      <td>4</td>\n",
       "    </tr>\n",
       "    <tr>\n",
       "      <th>23</th>\n",
       "      <td>1</td>\n",
       "      <td>22</td>\n",
       "      <td>4</td>\n",
       "    </tr>\n",
       "    <tr>\n",
       "      <th>29</th>\n",
       "      <td>1</td>\n",
       "      <td>28</td>\n",
       "      <td>5</td>\n",
       "    </tr>\n",
       "    <tr>\n",
       "      <th>30</th>\n",
       "      <td>1</td>\n",
       "      <td>29</td>\n",
       "      <td>5</td>\n",
       "    </tr>\n",
       "    <tr>\n",
       "      <th>31</th>\n",
       "      <td>1</td>\n",
       "      <td>30</td>\n",
       "      <td>5</td>\n",
       "    </tr>\n",
       "    <tr>\n",
       "      <th>32</th>\n",
       "      <td>1</td>\n",
       "      <td>10</td>\n",
       "      <td>5</td>\n",
       "    </tr>\n",
       "    <tr>\n",
       "      <th>33</th>\n",
       "      <td>1</td>\n",
       "      <td>31</td>\n",
       "      <td>5</td>\n",
       "    </tr>\n",
       "    <tr>\n",
       "      <th>69</th>\n",
       "      <td>1</td>\n",
       "      <td>36</td>\n",
       "      <td>6</td>\n",
       "    </tr>\n",
       "    <tr>\n",
       "      <th>70</th>\n",
       "      <td>1</td>\n",
       "      <td>2</td>\n",
       "      <td>6</td>\n",
       "    </tr>\n",
       "    <tr>\n",
       "      <th>...</th>\n",
       "      <td>...</td>\n",
       "      <td>...</td>\n",
       "      <td>...</td>\n",
       "    </tr>\n",
       "    <tr>\n",
       "      <th>751386</th>\n",
       "      <td>1</td>\n",
       "      <td>2199</td>\n",
       "      <td>69125</td>\n",
       "    </tr>\n",
       "    <tr>\n",
       "      <th>751387</th>\n",
       "      <td>1</td>\n",
       "      <td>2200</td>\n",
       "      <td>69125</td>\n",
       "    </tr>\n",
       "    <tr>\n",
       "      <th>751388</th>\n",
       "      <td>1</td>\n",
       "      <td>36</td>\n",
       "      <td>69125</td>\n",
       "    </tr>\n",
       "    <tr>\n",
       "      <th>751389</th>\n",
       "      <td>1</td>\n",
       "      <td>430</td>\n",
       "      <td>69125</td>\n",
       "    </tr>\n",
       "    <tr>\n",
       "      <th>751397</th>\n",
       "      <td>1</td>\n",
       "      <td>270</td>\n",
       "      <td>69126</td>\n",
       "    </tr>\n",
       "    <tr>\n",
       "      <th>751398</th>\n",
       "      <td>1</td>\n",
       "      <td>1286</td>\n",
       "      <td>69126</td>\n",
       "    </tr>\n",
       "    <tr>\n",
       "      <th>751399</th>\n",
       "      <td>1</td>\n",
       "      <td>2</td>\n",
       "      <td>69127</td>\n",
       "    </tr>\n",
       "    <tr>\n",
       "      <th>751400</th>\n",
       "      <td>1</td>\n",
       "      <td>4445</td>\n",
       "      <td>69127</td>\n",
       "    </tr>\n",
       "    <tr>\n",
       "      <th>751401</th>\n",
       "      <td>1</td>\n",
       "      <td>19112</td>\n",
       "      <td>69128</td>\n",
       "    </tr>\n",
       "    <tr>\n",
       "      <th>751402</th>\n",
       "      <td>1</td>\n",
       "      <td>80</td>\n",
       "      <td>69129</td>\n",
       "    </tr>\n",
       "    <tr>\n",
       "      <th>751403</th>\n",
       "      <td>1</td>\n",
       "      <td>73</td>\n",
       "      <td>69129</td>\n",
       "    </tr>\n",
       "    <tr>\n",
       "      <th>751404</th>\n",
       "      <td>1</td>\n",
       "      <td>635</td>\n",
       "      <td>69129</td>\n",
       "    </tr>\n",
       "    <tr>\n",
       "      <th>751405</th>\n",
       "      <td>1</td>\n",
       "      <td>36</td>\n",
       "      <td>69130</td>\n",
       "    </tr>\n",
       "    <tr>\n",
       "      <th>751406</th>\n",
       "      <td>1</td>\n",
       "      <td>2</td>\n",
       "      <td>69130</td>\n",
       "    </tr>\n",
       "    <tr>\n",
       "      <th>751407</th>\n",
       "      <td>1</td>\n",
       "      <td>378</td>\n",
       "      <td>69130</td>\n",
       "    </tr>\n",
       "    <tr>\n",
       "      <th>751408</th>\n",
       "      <td>1</td>\n",
       "      <td>210</td>\n",
       "      <td>69130</td>\n",
       "    </tr>\n",
       "    <tr>\n",
       "      <th>751409</th>\n",
       "      <td>1</td>\n",
       "      <td>69</td>\n",
       "      <td>69130</td>\n",
       "    </tr>\n",
       "    <tr>\n",
       "      <th>751416</th>\n",
       "      <td>1</td>\n",
       "      <td>72</td>\n",
       "      <td>69131</td>\n",
       "    </tr>\n",
       "    <tr>\n",
       "      <th>751417</th>\n",
       "      <td>1</td>\n",
       "      <td>108</td>\n",
       "      <td>69131</td>\n",
       "    </tr>\n",
       "    <tr>\n",
       "      <th>751418</th>\n",
       "      <td>1</td>\n",
       "      <td>382</td>\n",
       "      <td>69131</td>\n",
       "    </tr>\n",
       "    <tr>\n",
       "      <th>751419</th>\n",
       "      <td>1</td>\n",
       "      <td>33</td>\n",
       "      <td>69132</td>\n",
       "    </tr>\n",
       "    <tr>\n",
       "      <th>751420</th>\n",
       "      <td>1</td>\n",
       "      <td>5</td>\n",
       "      <td>69132</td>\n",
       "    </tr>\n",
       "    <tr>\n",
       "      <th>751421</th>\n",
       "      <td>1</td>\n",
       "      <td>223</td>\n",
       "      <td>69132</td>\n",
       "    </tr>\n",
       "    <tr>\n",
       "      <th>751422</th>\n",
       "      <td>1</td>\n",
       "      <td>421</td>\n",
       "      <td>69132</td>\n",
       "    </tr>\n",
       "    <tr>\n",
       "      <th>751423</th>\n",
       "      <td>1</td>\n",
       "      <td>2</td>\n",
       "      <td>69132</td>\n",
       "    </tr>\n",
       "    <tr>\n",
       "      <th>751428</th>\n",
       "      <td>1</td>\n",
       "      <td>270</td>\n",
       "      <td>69133</td>\n",
       "    </tr>\n",
       "    <tr>\n",
       "      <th>751429</th>\n",
       "      <td>1</td>\n",
       "      <td>1214</td>\n",
       "      <td>69133</td>\n",
       "    </tr>\n",
       "    <tr>\n",
       "      <th>751430</th>\n",
       "      <td>1</td>\n",
       "      <td>333</td>\n",
       "      <td>69133</td>\n",
       "    </tr>\n",
       "    <tr>\n",
       "      <th>751431</th>\n",
       "      <td>1</td>\n",
       "      <td>115</td>\n",
       "      <td>69133</td>\n",
       "    </tr>\n",
       "    <tr>\n",
       "      <th>751432</th>\n",
       "      <td>1</td>\n",
       "      <td>1216</td>\n",
       "      <td>69133</td>\n",
       "    </tr>\n",
       "  </tbody>\n",
       "</table>\n",
       "<p>292199 rows × 3 columns</p>\n",
       "</div>"
      ],
      "text/plain": [
       "        Count  ItemId  UserId\n",
       "0           1       0       0\n",
       "1           1       1       0\n",
       "2           1       2       0\n",
       "3           1       3       0\n",
       "4           1       4       1\n",
       "5           1       2       1\n",
       "6           1       5       1\n",
       "7           1       6       1\n",
       "8           1       7       2\n",
       "9           1       8       2\n",
       "10          1       9       2\n",
       "11          1      10       2\n",
       "12          1      11       2\n",
       "14          1      13       3\n",
       "15          1      14       3\n",
       "16          1      15       3\n",
       "17          1      16       3\n",
       "18          1      17       3\n",
       "19          1      18       4\n",
       "20          1      19       4\n",
       "21          1      20       4\n",
       "22          1      21       4\n",
       "23          1      22       4\n",
       "29          1      28       5\n",
       "30          1      29       5\n",
       "31          1      30       5\n",
       "32          1      10       5\n",
       "33          1      31       5\n",
       "69          1      36       6\n",
       "70          1       2       6\n",
       "...       ...     ...     ...\n",
       "751386      1    2199   69125\n",
       "751387      1    2200   69125\n",
       "751388      1      36   69125\n",
       "751389      1     430   69125\n",
       "751397      1     270   69126\n",
       "751398      1    1286   69126\n",
       "751399      1       2   69127\n",
       "751400      1    4445   69127\n",
       "751401      1   19112   69128\n",
       "751402      1      80   69129\n",
       "751403      1      73   69129\n",
       "751404      1     635   69129\n",
       "751405      1      36   69130\n",
       "751406      1       2   69130\n",
       "751407      1     378   69130\n",
       "751408      1     210   69130\n",
       "751409      1      69   69130\n",
       "751416      1      72   69131\n",
       "751417      1     108   69131\n",
       "751418      1     382   69131\n",
       "751419      1      33   69132\n",
       "751420      1       5   69132\n",
       "751421      1     223   69132\n",
       "751422      1     421   69132\n",
       "751423      1       2   69132\n",
       "751428      1     270   69133\n",
       "751429      1    1214   69133\n",
       "751430      1     333   69133\n",
       "751431      1     115   69133\n",
       "751432      1    1216   69133\n",
       "\n",
       "[292199 rows x 3 columns]"
      ]
     },
     "execution_count": 13,
     "metadata": {},
     "output_type": "execute_result"
    }
   ],
   "source": [
    "df_user_id.head()"
   ]
  },
  {
   "cell_type": "code",
   "execution_count": 14,
   "metadata": {},
   "outputs": [
    {
     "data": {
      "text/plain": [
       "69134"
      ]
     },
     "execution_count": 14,
     "metadata": {},
     "output_type": "execute_result"
    }
   ],
   "source": [
    "len(df_user_id)"
   ]
  },
  {
   "cell_type": "markdown",
   "metadata": {},
   "source": [
    "#### Split the dataframe grouped by UserId into train and test"
   ]
  },
  {
   "cell_type": "code",
   "execution_count": 15,
   "metadata": {},
   "outputs": [],
   "source": [
    "\"\"\"This is slow somehow. Need to optimize it.\"\"\"\n",
    "dataframe = df_user_id.apply(train_test_split)"
   ]
  },
  {
   "cell_type": "code",
   "execution_count": 16,
   "metadata": {},
   "outputs": [
    {
     "data": {
      "text/plain": [
       "[    Count  ItemId  UserId\n",
       " 51      1      45       5\n",
       " 58      1      52       5\n",
       " 52      1      46       5\n",
       " 63      1      57       5\n",
       " 34      1      12       5\n",
       " 59      1      53       5\n",
       " 57      1      51       5\n",
       " 42      1       3       5\n",
       " 49      1      44       5\n",
       " 61      1      55       5\n",
       " 56      1      50       5\n",
       " 36      1      33       5\n",
       " 68      1      62       5\n",
       " 29      1      28       5\n",
       " 40      1      37       5\n",
       " 62      1      56       5\n",
       " 64      1      58       5\n",
       " 67      1      61       5\n",
       " 37      1      34       5\n",
       " 53      1      47       5\n",
       " 65      1      59       5\n",
       " 44      1      40       5\n",
       " 35      1      32       5\n",
       " 38      1      35       5\n",
       " 31      1      30       5\n",
       " 48      1      43       5\n",
       " 55      1      49       5\n",
       " 43      1      39       5\n",
       " 39      1      36       5\n",
       " 47      1      42       5\n",
       " 66      1      60       5\n",
       " 60      1      54       5,     Count  ItemId  UserId\n",
       " 30      1      29       5\n",
       " 32      1      10       5\n",
       " 33      1      31       5\n",
       " 41      1      38       5\n",
       " 45      1       0       5\n",
       " 50      1      19       5\n",
       " 54      1      48       5\n",
       " 46      1      41       5]"
      ]
     },
     "execution_count": 16,
     "metadata": {},
     "output_type": "execute_result"
    }
   ],
   "source": [
    "dataframe[5]"
   ]
  },
  {
   "cell_type": "code",
   "execution_count": 34,
   "metadata": {},
   "outputs": [],
   "source": []
  },
  {
   "cell_type": "code",
   "execution_count": null,
   "metadata": {},
   "outputs": [],
   "source": []
  },
  {
   "cell_type": "code",
   "execution_count": 28,
   "metadata": {},
   "outputs": [],
   "source": [
    "list_df_train = list()\n",
    "list_df_test = list()\n",
    "list_df_validate = list()"
   ]
  },
  {
   "cell_type": "markdown",
   "metadata": {},
   "source": [
    "#### This logic is used to make sure that every user is in training. For details on how data is splitted into train, test and validation set for implicit feedback systems have a look [here](https://jessesw.com/Rec-System/)."
   ]
  },
  {
   "cell_type": "code",
   "execution_count": 24,
   "metadata": {},
   "outputs": [],
   "source": [
    "# \"\"\"This is how this works:\n",
    "\n",
    "#     Data is splitted into train, validate and test parts: 60% train, 20% validate and 20% test data.\n",
    "#     Now, if we have no entries in training data (for example there might be only single item that user interacts with),\n",
    "#     in that case if those entries are not in training data then they might be in test or validate since it's a random split. \n",
    "    \n",
    "#     So, in that case we need to add it to the training data and remove it from test or validate since it's mandatory to have all the\n",
    "#     users in the training set. The item interactions for a specific user, if having a reasonable count, are splitted between train test and validate.\n",
    "# \"\"\"\n",
    "\n",
    "# for s in dataframe:\n",
    "#     \"\"\"If training data is empty.\"\"\"\n",
    "#     if s[0].empty:\n",
    "#         \"\"\"If test data is empty.\"\"\"\n",
    "#         if s[2].empty:\n",
    "#             \"\"\"Add the validation data to training data.\"\"\"\n",
    "#             list_df_train.append(s[1])\n",
    "#         else:\n",
    "#             \"\"\"Add test data to training data.\"\"\"\n",
    "#             list_df_train.append(s[2])\n",
    "#             if not s[1].empty:\n",
    "#                 \"\"\"Add validation data to validation df.\"\"\"\n",
    "#                 list_df_validate.append(s[1])\n",
    "#     else:\n",
    "#         \"\"\"Add respective splits in their respective data frames.\"\"\"\n",
    "#         list_df_train.append(s[0])\n",
    "#         if not s[1].empty:\n",
    "#             list_df_validate.append(s[1])\n",
    "#         if not s[2].empty:\n",
    "#             list_df_test.append(s[2])\n",
    "            "
   ]
  },
  {
   "cell_type": "markdown",
   "metadata": {},
   "source": [
    "#### Same explanation as above goes here, it's just that we split into train and test here."
   ]
  },
  {
   "cell_type": "code",
   "execution_count": 29,
   "metadata": {},
   "outputs": [],
   "source": [
    "for s in dataframe:\n",
    "    if s[0].empty:\n",
    "        list_df_train.append(s[1])\n",
    "    else:\n",
    "        list_df_train.append(s[0])\n",
    "        if not s[1].empty:\n",
    "            list_df_test.append(s[1])"
   ]
  },
  {
   "cell_type": "code",
   "execution_count": null,
   "metadata": {},
   "outputs": [],
   "source": []
  },
  {
   "cell_type": "code",
   "execution_count": 30,
   "metadata": {},
   "outputs": [
    {
     "data": {
      "text/plain": [
       "69134"
      ]
     },
     "execution_count": 30,
     "metadata": {},
     "output_type": "execute_result"
    }
   ],
   "source": [
    "\"\"\"This has to be same as the number of unique manifests.\"\"\"\n",
    "len(list_df_train)"
   ]
  },
  {
   "cell_type": "code",
   "execution_count": 31,
   "metadata": {},
   "outputs": [
    {
     "data": {
      "text/plain": [
       "66807"
      ]
     },
     "execution_count": 31,
     "metadata": {},
     "output_type": "execute_result"
    }
   ],
   "source": [
    "len(list_df_test)"
   ]
  },
  {
   "cell_type": "code",
   "execution_count": 32,
   "metadata": {},
   "outputs": [
    {
     "data": {
      "text/plain": [
       "0"
      ]
     },
     "execution_count": 32,
     "metadata": {},
     "output_type": "execute_result"
    }
   ],
   "source": [
    "len(list_df_validate)"
   ]
  },
  {
   "cell_type": "code",
   "execution_count": 33,
   "metadata": {},
   "outputs": [
    {
     "data": {
      "text/html": [
       "<div>\n",
       "<style scoped>\n",
       "    .dataframe tbody tr th:only-of-type {\n",
       "        vertical-align: middle;\n",
       "    }\n",
       "\n",
       "    .dataframe tbody tr th {\n",
       "        vertical-align: top;\n",
       "    }\n",
       "\n",
       "    .dataframe thead th {\n",
       "        text-align: right;\n",
       "    }\n",
       "</style>\n",
       "<table border=\"1\" class=\"dataframe\">\n",
       "  <thead>\n",
       "    <tr style=\"text-align: right;\">\n",
       "      <th></th>\n",
       "      <th>Count</th>\n",
       "      <th>ItemId</th>\n",
       "      <th>UserId</th>\n",
       "    </tr>\n",
       "  </thead>\n",
       "  <tbody>\n",
       "    <tr>\n",
       "      <th>0</th>\n",
       "      <td>1</td>\n",
       "      <td>0</td>\n",
       "      <td>0</td>\n",
       "    </tr>\n",
       "  </tbody>\n",
       "</table>\n",
       "</div>"
      ],
      "text/plain": [
       "   Count  ItemId  UserId\n",
       "0      1       0       0"
      ]
     },
     "execution_count": 33,
     "metadata": {},
     "output_type": "execute_result"
    }
   ],
   "source": [
    "list_df_test[0]"
   ]
  },
  {
   "cell_type": "code",
   "execution_count": 35,
   "metadata": {},
   "outputs": [],
   "source": [
    "training_data = pandas.concat(list_df_train, ignore_index=True)"
   ]
  },
  {
   "cell_type": "code",
   "execution_count": 36,
   "metadata": {},
   "outputs": [
    {
     "data": {
      "text/plain": [
       "69134"
      ]
     },
     "execution_count": 36,
     "metadata": {},
     "output_type": "execute_result"
    }
   ],
   "source": [
    "len(set(training_data.UserId))"
   ]
  },
  {
   "cell_type": "code",
   "execution_count": 37,
   "metadata": {},
   "outputs": [
    {
     "data": {
      "text/plain": [
       "16959"
      ]
     },
     "execution_count": 37,
     "metadata": {},
     "output_type": "execute_result"
    }
   ],
   "source": [
    "len(set(training_data.ItemId))"
   ]
  },
  {
   "cell_type": "code",
   "execution_count": 38,
   "metadata": {},
   "outputs": [
    {
     "data": {
      "text/plain": [
       "575278"
      ]
     },
     "execution_count": 38,
     "metadata": {},
     "output_type": "execute_result"
    }
   ],
   "source": [
    "len(training_data)"
   ]
  },
  {
   "cell_type": "code",
   "execution_count": 39,
   "metadata": {},
   "outputs": [
    {
     "data": {
      "text/html": [
       "<div>\n",
       "<style scoped>\n",
       "    .dataframe tbody tr th:only-of-type {\n",
       "        vertical-align: middle;\n",
       "    }\n",
       "\n",
       "    .dataframe tbody tr th {\n",
       "        vertical-align: top;\n",
       "    }\n",
       "\n",
       "    .dataframe thead th {\n",
       "        text-align: right;\n",
       "    }\n",
       "</style>\n",
       "<table border=\"1\" class=\"dataframe\">\n",
       "  <thead>\n",
       "    <tr style=\"text-align: right;\">\n",
       "      <th></th>\n",
       "      <th>Count</th>\n",
       "      <th>ItemId</th>\n",
       "      <th>UserId</th>\n",
       "    </tr>\n",
       "  </thead>\n",
       "  <tbody>\n",
       "    <tr>\n",
       "      <th>0</th>\n",
       "      <td>1</td>\n",
       "      <td>2</td>\n",
       "      <td>0</td>\n",
       "    </tr>\n",
       "    <tr>\n",
       "      <th>1</th>\n",
       "      <td>1</td>\n",
       "      <td>3</td>\n",
       "      <td>0</td>\n",
       "    </tr>\n",
       "    <tr>\n",
       "      <th>2</th>\n",
       "      <td>1</td>\n",
       "      <td>1</td>\n",
       "      <td>0</td>\n",
       "    </tr>\n",
       "    <tr>\n",
       "      <th>3</th>\n",
       "      <td>1</td>\n",
       "      <td>2</td>\n",
       "      <td>1</td>\n",
       "    </tr>\n",
       "    <tr>\n",
       "      <th>4</th>\n",
       "      <td>1</td>\n",
       "      <td>6</td>\n",
       "      <td>1</td>\n",
       "    </tr>\n",
       "  </tbody>\n",
       "</table>\n",
       "</div>"
      ],
      "text/plain": [
       "   Count  ItemId  UserId\n",
       "0      1       2       0\n",
       "1      1       3       0\n",
       "2      1       1       0\n",
       "3      1       2       1\n",
       "4      1       6       1"
      ]
     },
     "execution_count": 39,
     "metadata": {},
     "output_type": "execute_result"
    }
   ],
   "source": [
    "training_data.head()"
   ]
  },
  {
   "cell_type": "code",
   "execution_count": 40,
   "metadata": {},
   "outputs": [],
   "source": [
    "test_data = pandas.concat(list_df_test, ignore_index=True)"
   ]
  },
  {
   "cell_type": "code",
   "execution_count": 41,
   "metadata": {},
   "outputs": [
    {
     "data": {
      "text/plain": [
       "176179"
      ]
     },
     "execution_count": 41,
     "metadata": {},
     "output_type": "execute_result"
    }
   ],
   "source": [
    "len(test_data)"
   ]
  },
  {
   "cell_type": "code",
   "execution_count": 42,
   "metadata": {},
   "outputs": [
    {
     "data": {
      "text/html": [
       "<div>\n",
       "<style scoped>\n",
       "    .dataframe tbody tr th:only-of-type {\n",
       "        vertical-align: middle;\n",
       "    }\n",
       "\n",
       "    .dataframe tbody tr th {\n",
       "        vertical-align: top;\n",
       "    }\n",
       "\n",
       "    .dataframe thead th {\n",
       "        text-align: right;\n",
       "    }\n",
       "</style>\n",
       "<table border=\"1\" class=\"dataframe\">\n",
       "  <thead>\n",
       "    <tr style=\"text-align: right;\">\n",
       "      <th></th>\n",
       "      <th>Count</th>\n",
       "      <th>ItemId</th>\n",
       "      <th>UserId</th>\n",
       "    </tr>\n",
       "  </thead>\n",
       "  <tbody>\n",
       "    <tr>\n",
       "      <th>0</th>\n",
       "      <td>1</td>\n",
       "      <td>0</td>\n",
       "      <td>0</td>\n",
       "    </tr>\n",
       "    <tr>\n",
       "      <th>1</th>\n",
       "      <td>1</td>\n",
       "      <td>4</td>\n",
       "      <td>1</td>\n",
       "    </tr>\n",
       "    <tr>\n",
       "      <th>2</th>\n",
       "      <td>1</td>\n",
       "      <td>12</td>\n",
       "      <td>2</td>\n",
       "    </tr>\n",
       "    <tr>\n",
       "      <th>3</th>\n",
       "      <td>1</td>\n",
       "      <td>8</td>\n",
       "      <td>2</td>\n",
       "    </tr>\n",
       "    <tr>\n",
       "      <th>4</th>\n",
       "      <td>1</td>\n",
       "      <td>17</td>\n",
       "      <td>3</td>\n",
       "    </tr>\n",
       "  </tbody>\n",
       "</table>\n",
       "</div>"
      ],
      "text/plain": [
       "   Count  ItemId  UserId\n",
       "0      1       0       0\n",
       "1      1       4       1\n",
       "2      1      12       2\n",
       "3      1       8       2\n",
       "4      1      17       3"
      ]
     },
     "execution_count": 42,
     "metadata": {},
     "output_type": "execute_result"
    }
   ],
   "source": [
    "test_data.head()"
   ]
  },
  {
   "cell_type": "code",
   "execution_count": 53,
   "metadata": {},
   "outputs": [],
   "source": [
    "# validate_data = pandas.concat(list_df_validate, ignore_index=True)"
   ]
  },
  {
   "cell_type": "markdown",
   "metadata": {},
   "source": [
    "#### A sanity check to see if there are different rows. There shouldn't be any overlap between train, test and validate data.\n"
   ]
  },
  {
   "cell_type": "code",
   "execution_count": 45,
   "metadata": {},
   "outputs": [],
   "source": [
    "x = pandas.merge(training_data, test_data, how='inner', on=['Count', 'ItemId', 'UserId'])\n",
    "assert x.empty\n",
    "# x = pandas.merge(training_data, validate_data, how='inner', on=['Count', 'ItemId', 'UserId'])\n",
    "# assert x.empty\n",
    "# x = pandas.merge(test_data, validate_data, how='inner', on=['Count', 'ItemId', 'UserId'])\n",
    "# assert x.empty"
   ]
  },
  {
   "cell_type": "code",
   "execution_count": 46,
   "metadata": {},
   "outputs": [
    {
     "data": {
      "text/plain": [
       "0"
      ]
     },
     "execution_count": 46,
     "metadata": {},
     "output_type": "execute_result"
    }
   ],
   "source": [
    "len(x)"
   ]
  },
  {
   "cell_type": "code",
   "execution_count": 48,
   "metadata": {},
   "outputs": [],
   "source": [
    "training_data.to_pickle('./training-data.pkl')"
   ]
  },
  {
   "cell_type": "code",
   "execution_count": 49,
   "metadata": {},
   "outputs": [],
   "source": [
    "test_data.to_pickle('./test-data.pkl')"
   ]
  },
  {
   "cell_type": "code",
   "execution_count": 50,
   "metadata": {},
   "outputs": [],
   "source": [
    "# validate_df.to_pickle('./validation-data.pkl')"
   ]
  }
 ],
 "metadata": {
  "kernelspec": {
   "display_name": "Python 3",
   "language": "python",
   "name": "python3"
  },
  "language_info": {
   "codemirror_mode": {
    "name": "ipython",
    "version": 3
   },
   "file_extension": ".py",
   "mimetype": "text/x-python",
   "name": "python",
   "nbconvert_exporter": "python",
   "pygments_lexer": "ipython3",
   "version": "3.6.3"
  }
 },
 "nbformat": 4,
 "nbformat_minor": 2
}
